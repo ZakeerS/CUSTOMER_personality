{
  "cells": [
    {
      "cell_type": "markdown",
      "id": "1ff197b1",
      "metadata": {
        "id": "1ff197b1"
      },
      "source": [
        "# CUSTOMER PERSONALITY ANALYSIS"
      ]
    },
    {
      "cell_type": "markdown",
      "id": "bc8fcc78",
      "metadata": {
        "id": "bc8fcc78"
      },
      "source": [
        "\n",
        "\n",
        "## PROBLEM STATEMENT\n",
        "\n",
        "Customer Personality Analysis is a detailed analysis of a company’s ideal customers. It helps a business to better understand its customers and makes it easier for them to modify products according to the specific needs, behaviors and concerns of different types of customers.\n",
        "\n",
        "Customer personality analysis helps a business to modify its product based on its target customers from different types of customer segments. For example, instead of spending money to market a new product to every customer in the company’s database, a company can analyze which customer segment is most likely to buy the product and then market the product only on that particular segment."
      ]
    },
    {
      "cell_type": "markdown",
      "id": "1e77276f",
      "metadata": {
        "id": "1e77276f"
      },
      "source": [
        "## ATTRIBUTES\n",
        "\n",
        "### PEOPLE:\n",
        "\n",
        " - ID: Customer's unique identifier\n",
        "\n",
        "\n",
        " - Year_Birth: Customer's birth year\n",
        "\n",
        "\n",
        " - Education: Customer's education level\n",
        "\n",
        "\n",
        " - Marital_Status: Customer's marital status\n",
        "\n",
        "\n",
        " - Income: Customer's yearly household income\n",
        "\n",
        "\n",
        " - Kidhome: Number of children in customer's household\n",
        "\n",
        "\n",
        " - Teenhome: Number of teenagers in customer's household\n",
        "\n",
        "\n",
        " - Dt_Customer: Date of customer's enrollment with the company\n",
        "\n",
        "\n",
        " - Recency: Number of days since customer's last purchase\n",
        "\n",
        "\n",
        " - Complain: 1 if the customer complained in the last 2 years, 0 otherwise\n"
      ]
    },
    {
      "cell_type": "markdown",
      "id": "2f7daa5d",
      "metadata": {
        "id": "2f7daa5d"
      },
      "source": [
        "### PRODUCTS:\n",
        "\n",
        " - MntWines: Amount spent on wine in last 2 years\n",
        "\n",
        "\n",
        " - MntFruits: Amount spent on fruits in last 2 years\n",
        "\n",
        "\n",
        " - MntMeatProducts: Amount spent on meat in last 2 years\n",
        "\n",
        "\n",
        " - MntFishProducts: Amount spent on fish in last 2 years\n",
        "\n",
        "\n",
        " - MntSweetProducts: Amount spent on sweets in last 2 years\n",
        "\n",
        "\n",
        " - MntGoldProds: Amount spent on gold in last 2 years"
      ]
    },
    {
      "cell_type": "markdown",
      "id": "15580254",
      "metadata": {
        "id": "15580254"
      },
      "source": [
        "### PROMOTION:\n",
        "\n",
        " - NumDealsPurchases: Number of purchases made with a discount\n",
        "\n",
        "\n",
        " - AcceptedCmp1: 1 if customer accepted the offer in the 1st campaign, 0 otherwise\n",
        "\n",
        "\n",
        " - AcceptedCmp2: 1 if customer accepted the offer in the 2nd campaign, 0 otherwise\n",
        "\n",
        "\n",
        " - AcceptedCmp3: 1 if customer accepted the offer in the 3rd campaign, 0 otherwise\n",
        "\n",
        "\n",
        " - AcceptedCmp4: 1 if customer accepted the offer in the 4th campaign, 0 otherwise\n",
        "\n",
        "\n",
        " - AcceptedCmp5: 1 if customer accepted the offer in the 5th campaign, 0 otherwise\n",
        "\n",
        "\n",
        " - Response: 1 if customer accepted the offer in the last campaign, 0 otherwise"
      ]
    },
    {
      "cell_type": "markdown",
      "id": "5bd56b80",
      "metadata": {
        "id": "5bd56b80"
      },
      "source": [
        "### PLACE:\n",
        "\n",
        " - NumWebPurchases: Number of purchases made through the company’s website\n",
        "\n",
        "\n",
        " - NumCatalogPurchases: Number of purchases made using a catalogue\n",
        "\n",
        "\n",
        " - NumStorePurchases: Number of purchases made directly in stores\n",
        "\n",
        "\n",
        " - NumWebVisitsMonth: Number of visits to company’s website in the last month"
      ]
    },
    {
      "cell_type": "markdown",
      "id": "8b8f4d3d",
      "metadata": {
        "id": "8b8f4d3d"
      },
      "source": [
        "### TARGET\n",
        "\n",
        "Need to perform clustering to summarize customer segments."
      ]
    },
    {
      "cell_type": "markdown",
      "id": "2e06650a",
      "metadata": {
        "id": "2e06650a"
      },
      "source": [
        "## IMPORTING LIBRARIES AND DATASET"
      ]
    },
    {
      "cell_type": "code",
      "execution_count": null,
      "id": "48695852",
      "metadata": {
        "id": "48695852"
      },
      "outputs": [],
      "source": [
        "import pandas as pd\n",
        "import numpy as np\n",
        "from matplotlib import pyplot as plt\n",
        "import seaborn as sns\n",
        "import warnings\n",
        "warnings.filterwarnings(\"ignore\")\n",
        "import datetime\n",
        "from datetime import date"
      ]
    },
    {
      "cell_type": "code",
      "execution_count": null,
      "id": "022d015c",
      "metadata": {
        "id": "022d015c"
      },
      "outputs": [],
      "source": [
        "data = pd.read_excel('marketing_campaign.xlsx')"
      ]
    },
    {
      "cell_type": "code",
      "execution_count": null,
      "id": "40671ef6",
      "metadata": {
        "colab": {
          "base_uri": "https://localhost:8080/",
          "height": 488
        },
        "id": "40671ef6",
        "outputId": "0072941f-5f88-4b44-cb6a-1411635df85b"
      },
      "outputs": [
        {
          "output_type": "execute_result",
          "data": {
            "text/plain": [
              "         ID  Year_Birth   Education Marital_Status   Income  Kidhome  \\\n",
              "0      5524        1957  Graduation         Single  58138.0        0   \n",
              "1      2174        1954  Graduation         Single  46344.0        1   \n",
              "2      4141        1965  Graduation       Together  71613.0        0   \n",
              "3      6182        1984  Graduation       Together  26646.0        1   \n",
              "4      5324        1981         PhD        Married  58293.0        1   \n",
              "...     ...         ...         ...            ...      ...      ...   \n",
              "2235  10870        1967  Graduation        Married  61223.0        0   \n",
              "2236   4001        1946         PhD       Together  64014.0        2   \n",
              "2237   7270        1981  Graduation       Divorced  56981.0        0   \n",
              "2238   8235        1956      Master       Together  69245.0        0   \n",
              "2239   9405        1954         PhD        Married  52869.0        1   \n",
              "\n",
              "      Teenhome Dt_Customer  Recency  MntWines  ...  NumWebVisitsMonth  \\\n",
              "0            0  2012-09-04       58       635  ...                  7   \n",
              "1            1  2014-03-08       38        11  ...                  5   \n",
              "2            0  2013-08-21       26       426  ...                  4   \n",
              "3            0  2014-02-10       26        11  ...                  6   \n",
              "4            0  2014-01-19       94       173  ...                  5   \n",
              "...        ...         ...      ...       ...  ...                ...   \n",
              "2235         1  2013-06-13       46       709  ...                  5   \n",
              "2236         1  2014-06-10       56       406  ...                  7   \n",
              "2237         0  2014-01-25       91       908  ...                  6   \n",
              "2238         1  2014-01-24        8       428  ...                  3   \n",
              "2239         1  2012-10-15       40        84  ...                  7   \n",
              "\n",
              "      AcceptedCmp3  AcceptedCmp4  AcceptedCmp5  AcceptedCmp1  AcceptedCmp2  \\\n",
              "0                0             0             0             0             0   \n",
              "1                0             0             0             0             0   \n",
              "2                0             0             0             0             0   \n",
              "3                0             0             0             0             0   \n",
              "4                0             0             0             0             0   \n",
              "...            ...           ...           ...           ...           ...   \n",
              "2235             0             0             0             0             0   \n",
              "2236             0             0             0             1             0   \n",
              "2237             0             1             0             0             0   \n",
              "2238             0             0             0             0             0   \n",
              "2239             0             0             0             0             0   \n",
              "\n",
              "      Complain  Z_CostContact  Z_Revenue  Response  \n",
              "0            0              3         11         1  \n",
              "1            0              3         11         0  \n",
              "2            0              3         11         0  \n",
              "3            0              3         11         0  \n",
              "4            0              3         11         0  \n",
              "...        ...            ...        ...       ...  \n",
              "2235         0              3         11         0  \n",
              "2236         0              3         11         0  \n",
              "2237         0              3         11         0  \n",
              "2238         0              3         11         0  \n",
              "2239         0              3         11         1  \n",
              "\n",
              "[2240 rows x 29 columns]"
            ],
            "text/html": [
              "\n",
              "\n",
              "  <div id=\"df-f383e5ca-a20a-4763-997e-1d7a422f55ba\">\n",
              "    <div class=\"colab-df-container\">\n",
              "      <div>\n",
              "<style scoped>\n",
              "    .dataframe tbody tr th:only-of-type {\n",
              "        vertical-align: middle;\n",
              "    }\n",
              "\n",
              "    .dataframe tbody tr th {\n",
              "        vertical-align: top;\n",
              "    }\n",
              "\n",
              "    .dataframe thead th {\n",
              "        text-align: right;\n",
              "    }\n",
              "</style>\n",
              "<table border=\"1\" class=\"dataframe\">\n",
              "  <thead>\n",
              "    <tr style=\"text-align: right;\">\n",
              "      <th></th>\n",
              "      <th>ID</th>\n",
              "      <th>Year_Birth</th>\n",
              "      <th>Education</th>\n",
              "      <th>Marital_Status</th>\n",
              "      <th>Income</th>\n",
              "      <th>Kidhome</th>\n",
              "      <th>Teenhome</th>\n",
              "      <th>Dt_Customer</th>\n",
              "      <th>Recency</th>\n",
              "      <th>MntWines</th>\n",
              "      <th>...</th>\n",
              "      <th>NumWebVisitsMonth</th>\n",
              "      <th>AcceptedCmp3</th>\n",
              "      <th>AcceptedCmp4</th>\n",
              "      <th>AcceptedCmp5</th>\n",
              "      <th>AcceptedCmp1</th>\n",
              "      <th>AcceptedCmp2</th>\n",
              "      <th>Complain</th>\n",
              "      <th>Z_CostContact</th>\n",
              "      <th>Z_Revenue</th>\n",
              "      <th>Response</th>\n",
              "    </tr>\n",
              "  </thead>\n",
              "  <tbody>\n",
              "    <tr>\n",
              "      <th>0</th>\n",
              "      <td>5524</td>\n",
              "      <td>1957</td>\n",
              "      <td>Graduation</td>\n",
              "      <td>Single</td>\n",
              "      <td>58138.0</td>\n",
              "      <td>0</td>\n",
              "      <td>0</td>\n",
              "      <td>2012-09-04</td>\n",
              "      <td>58</td>\n",
              "      <td>635</td>\n",
              "      <td>...</td>\n",
              "      <td>7</td>\n",
              "      <td>0</td>\n",
              "      <td>0</td>\n",
              "      <td>0</td>\n",
              "      <td>0</td>\n",
              "      <td>0</td>\n",
              "      <td>0</td>\n",
              "      <td>3</td>\n",
              "      <td>11</td>\n",
              "      <td>1</td>\n",
              "    </tr>\n",
              "    <tr>\n",
              "      <th>1</th>\n",
              "      <td>2174</td>\n",
              "      <td>1954</td>\n",
              "      <td>Graduation</td>\n",
              "      <td>Single</td>\n",
              "      <td>46344.0</td>\n",
              "      <td>1</td>\n",
              "      <td>1</td>\n",
              "      <td>2014-03-08</td>\n",
              "      <td>38</td>\n",
              "      <td>11</td>\n",
              "      <td>...</td>\n",
              "      <td>5</td>\n",
              "      <td>0</td>\n",
              "      <td>0</td>\n",
              "      <td>0</td>\n",
              "      <td>0</td>\n",
              "      <td>0</td>\n",
              "      <td>0</td>\n",
              "      <td>3</td>\n",
              "      <td>11</td>\n",
              "      <td>0</td>\n",
              "    </tr>\n",
              "    <tr>\n",
              "      <th>2</th>\n",
              "      <td>4141</td>\n",
              "      <td>1965</td>\n",
              "      <td>Graduation</td>\n",
              "      <td>Together</td>\n",
              "      <td>71613.0</td>\n",
              "      <td>0</td>\n",
              "      <td>0</td>\n",
              "      <td>2013-08-21</td>\n",
              "      <td>26</td>\n",
              "      <td>426</td>\n",
              "      <td>...</td>\n",
              "      <td>4</td>\n",
              "      <td>0</td>\n",
              "      <td>0</td>\n",
              "      <td>0</td>\n",
              "      <td>0</td>\n",
              "      <td>0</td>\n",
              "      <td>0</td>\n",
              "      <td>3</td>\n",
              "      <td>11</td>\n",
              "      <td>0</td>\n",
              "    </tr>\n",
              "    <tr>\n",
              "      <th>3</th>\n",
              "      <td>6182</td>\n",
              "      <td>1984</td>\n",
              "      <td>Graduation</td>\n",
              "      <td>Together</td>\n",
              "      <td>26646.0</td>\n",
              "      <td>1</td>\n",
              "      <td>0</td>\n",
              "      <td>2014-02-10</td>\n",
              "      <td>26</td>\n",
              "      <td>11</td>\n",
              "      <td>...</td>\n",
              "      <td>6</td>\n",
              "      <td>0</td>\n",
              "      <td>0</td>\n",
              "      <td>0</td>\n",
              "      <td>0</td>\n",
              "      <td>0</td>\n",
              "      <td>0</td>\n",
              "      <td>3</td>\n",
              "      <td>11</td>\n",
              "      <td>0</td>\n",
              "    </tr>\n",
              "    <tr>\n",
              "      <th>4</th>\n",
              "      <td>5324</td>\n",
              "      <td>1981</td>\n",
              "      <td>PhD</td>\n",
              "      <td>Married</td>\n",
              "      <td>58293.0</td>\n",
              "      <td>1</td>\n",
              "      <td>0</td>\n",
              "      <td>2014-01-19</td>\n",
              "      <td>94</td>\n",
              "      <td>173</td>\n",
              "      <td>...</td>\n",
              "      <td>5</td>\n",
              "      <td>0</td>\n",
              "      <td>0</td>\n",
              "      <td>0</td>\n",
              "      <td>0</td>\n",
              "      <td>0</td>\n",
              "      <td>0</td>\n",
              "      <td>3</td>\n",
              "      <td>11</td>\n",
              "      <td>0</td>\n",
              "    </tr>\n",
              "    <tr>\n",
              "      <th>...</th>\n",
              "      <td>...</td>\n",
              "      <td>...</td>\n",
              "      <td>...</td>\n",
              "      <td>...</td>\n",
              "      <td>...</td>\n",
              "      <td>...</td>\n",
              "      <td>...</td>\n",
              "      <td>...</td>\n",
              "      <td>...</td>\n",
              "      <td>...</td>\n",
              "      <td>...</td>\n",
              "      <td>...</td>\n",
              "      <td>...</td>\n",
              "      <td>...</td>\n",
              "      <td>...</td>\n",
              "      <td>...</td>\n",
              "      <td>...</td>\n",
              "      <td>...</td>\n",
              "      <td>...</td>\n",
              "      <td>...</td>\n",
              "      <td>...</td>\n",
              "    </tr>\n",
              "    <tr>\n",
              "      <th>2235</th>\n",
              "      <td>10870</td>\n",
              "      <td>1967</td>\n",
              "      <td>Graduation</td>\n",
              "      <td>Married</td>\n",
              "      <td>61223.0</td>\n",
              "      <td>0</td>\n",
              "      <td>1</td>\n",
              "      <td>2013-06-13</td>\n",
              "      <td>46</td>\n",
              "      <td>709</td>\n",
              "      <td>...</td>\n",
              "      <td>5</td>\n",
              "      <td>0</td>\n",
              "      <td>0</td>\n",
              "      <td>0</td>\n",
              "      <td>0</td>\n",
              "      <td>0</td>\n",
              "      <td>0</td>\n",
              "      <td>3</td>\n",
              "      <td>11</td>\n",
              "      <td>0</td>\n",
              "    </tr>\n",
              "    <tr>\n",
              "      <th>2236</th>\n",
              "      <td>4001</td>\n",
              "      <td>1946</td>\n",
              "      <td>PhD</td>\n",
              "      <td>Together</td>\n",
              "      <td>64014.0</td>\n",
              "      <td>2</td>\n",
              "      <td>1</td>\n",
              "      <td>2014-06-10</td>\n",
              "      <td>56</td>\n",
              "      <td>406</td>\n",
              "      <td>...</td>\n",
              "      <td>7</td>\n",
              "      <td>0</td>\n",
              "      <td>0</td>\n",
              "      <td>0</td>\n",
              "      <td>1</td>\n",
              "      <td>0</td>\n",
              "      <td>0</td>\n",
              "      <td>3</td>\n",
              "      <td>11</td>\n",
              "      <td>0</td>\n",
              "    </tr>\n",
              "    <tr>\n",
              "      <th>2237</th>\n",
              "      <td>7270</td>\n",
              "      <td>1981</td>\n",
              "      <td>Graduation</td>\n",
              "      <td>Divorced</td>\n",
              "      <td>56981.0</td>\n",
              "      <td>0</td>\n",
              "      <td>0</td>\n",
              "      <td>2014-01-25</td>\n",
              "      <td>91</td>\n",
              "      <td>908</td>\n",
              "      <td>...</td>\n",
              "      <td>6</td>\n",
              "      <td>0</td>\n",
              "      <td>1</td>\n",
              "      <td>0</td>\n",
              "      <td>0</td>\n",
              "      <td>0</td>\n",
              "      <td>0</td>\n",
              "      <td>3</td>\n",
              "      <td>11</td>\n",
              "      <td>0</td>\n",
              "    </tr>\n",
              "    <tr>\n",
              "      <th>2238</th>\n",
              "      <td>8235</td>\n",
              "      <td>1956</td>\n",
              "      <td>Master</td>\n",
              "      <td>Together</td>\n",
              "      <td>69245.0</td>\n",
              "      <td>0</td>\n",
              "      <td>1</td>\n",
              "      <td>2014-01-24</td>\n",
              "      <td>8</td>\n",
              "      <td>428</td>\n",
              "      <td>...</td>\n",
              "      <td>3</td>\n",
              "      <td>0</td>\n",
              "      <td>0</td>\n",
              "      <td>0</td>\n",
              "      <td>0</td>\n",
              "      <td>0</td>\n",
              "      <td>0</td>\n",
              "      <td>3</td>\n",
              "      <td>11</td>\n",
              "      <td>0</td>\n",
              "    </tr>\n",
              "    <tr>\n",
              "      <th>2239</th>\n",
              "      <td>9405</td>\n",
              "      <td>1954</td>\n",
              "      <td>PhD</td>\n",
              "      <td>Married</td>\n",
              "      <td>52869.0</td>\n",
              "      <td>1</td>\n",
              "      <td>1</td>\n",
              "      <td>2012-10-15</td>\n",
              "      <td>40</td>\n",
              "      <td>84</td>\n",
              "      <td>...</td>\n",
              "      <td>7</td>\n",
              "      <td>0</td>\n",
              "      <td>0</td>\n",
              "      <td>0</td>\n",
              "      <td>0</td>\n",
              "      <td>0</td>\n",
              "      <td>0</td>\n",
              "      <td>3</td>\n",
              "      <td>11</td>\n",
              "      <td>1</td>\n",
              "    </tr>\n",
              "  </tbody>\n",
              "</table>\n",
              "<p>2240 rows × 29 columns</p>\n",
              "</div>\n",
              "      <button class=\"colab-df-convert\" onclick=\"convertToInteractive('df-f383e5ca-a20a-4763-997e-1d7a422f55ba')\"\n",
              "              title=\"Convert this dataframe to an interactive table.\"\n",
              "              style=\"display:none;\">\n",
              "\n",
              "  <svg xmlns=\"http://www.w3.org/2000/svg\" height=\"24px\"viewBox=\"0 0 24 24\"\n",
              "       width=\"24px\">\n",
              "    <path d=\"M0 0h24v24H0V0z\" fill=\"none\"/>\n",
              "    <path d=\"M18.56 5.44l.94 2.06.94-2.06 2.06-.94-2.06-.94-.94-2.06-.94 2.06-2.06.94zm-11 1L8.5 8.5l.94-2.06 2.06-.94-2.06-.94L8.5 2.5l-.94 2.06-2.06.94zm10 10l.94 2.06.94-2.06 2.06-.94-2.06-.94-.94-2.06-.94 2.06-2.06.94z\"/><path d=\"M17.41 7.96l-1.37-1.37c-.4-.4-.92-.59-1.43-.59-.52 0-1.04.2-1.43.59L10.3 9.45l-7.72 7.72c-.78.78-.78 2.05 0 2.83L4 21.41c.39.39.9.59 1.41.59.51 0 1.02-.2 1.41-.59l7.78-7.78 2.81-2.81c.8-.78.8-2.07 0-2.86zM5.41 20L4 18.59l7.72-7.72 1.47 1.35L5.41 20z\"/>\n",
              "  </svg>\n",
              "      </button>\n",
              "\n",
              "\n",
              "\n",
              "    <div id=\"df-803d870a-0bb8-486a-8043-66ebcdcd8b30\">\n",
              "      <button class=\"colab-df-quickchart\" onclick=\"quickchart('df-803d870a-0bb8-486a-8043-66ebcdcd8b30')\"\n",
              "              title=\"Suggest charts.\"\n",
              "              style=\"display:none;\">\n",
              "\n",
              "<svg xmlns=\"http://www.w3.org/2000/svg\" height=\"24px\"viewBox=\"0 0 24 24\"\n",
              "     width=\"24px\">\n",
              "    <g>\n",
              "        <path d=\"M19 3H5c-1.1 0-2 .9-2 2v14c0 1.1.9 2 2 2h14c1.1 0 2-.9 2-2V5c0-1.1-.9-2-2-2zM9 17H7v-7h2v7zm4 0h-2V7h2v10zm4 0h-2v-4h2v4z\"/>\n",
              "    </g>\n",
              "</svg>\n",
              "      </button>\n",
              "    </div>\n",
              "\n",
              "<style>\n",
              "  .colab-df-quickchart {\n",
              "    background-color: #E8F0FE;\n",
              "    border: none;\n",
              "    border-radius: 50%;\n",
              "    cursor: pointer;\n",
              "    display: none;\n",
              "    fill: #1967D2;\n",
              "    height: 32px;\n",
              "    padding: 0 0 0 0;\n",
              "    width: 32px;\n",
              "  }\n",
              "\n",
              "  .colab-df-quickchart:hover {\n",
              "    background-color: #E2EBFA;\n",
              "    box-shadow: 0px 1px 2px rgba(60, 64, 67, 0.3), 0px 1px 3px 1px rgba(60, 64, 67, 0.15);\n",
              "    fill: #174EA6;\n",
              "  }\n",
              "\n",
              "  [theme=dark] .colab-df-quickchart {\n",
              "    background-color: #3B4455;\n",
              "    fill: #D2E3FC;\n",
              "  }\n",
              "\n",
              "  [theme=dark] .colab-df-quickchart:hover {\n",
              "    background-color: #434B5C;\n",
              "    box-shadow: 0px 1px 3px 1px rgba(0, 0, 0, 0.15);\n",
              "    filter: drop-shadow(0px 1px 2px rgba(0, 0, 0, 0.3));\n",
              "    fill: #FFFFFF;\n",
              "  }\n",
              "</style>\n",
              "\n",
              "    <script>\n",
              "      async function quickchart(key) {\n",
              "        const containerElement = document.querySelector('#' + key);\n",
              "        const charts = await google.colab.kernel.invokeFunction(\n",
              "            'suggestCharts', [key], {});\n",
              "      }\n",
              "    </script>\n",
              "\n",
              "      <script>\n",
              "\n",
              "function displayQuickchartButton(domScope) {\n",
              "  let quickchartButtonEl =\n",
              "    domScope.querySelector('#df-803d870a-0bb8-486a-8043-66ebcdcd8b30 button.colab-df-quickchart');\n",
              "  quickchartButtonEl.style.display =\n",
              "    google.colab.kernel.accessAllowed ? 'block' : 'none';\n",
              "}\n",
              "\n",
              "        displayQuickchartButton(document);\n",
              "      </script>\n",
              "      <style>\n",
              "    .colab-df-container {\n",
              "      display:flex;\n",
              "      flex-wrap:wrap;\n",
              "      gap: 12px;\n",
              "    }\n",
              "\n",
              "    .colab-df-convert {\n",
              "      background-color: #E8F0FE;\n",
              "      border: none;\n",
              "      border-radius: 50%;\n",
              "      cursor: pointer;\n",
              "      display: none;\n",
              "      fill: #1967D2;\n",
              "      height: 32px;\n",
              "      padding: 0 0 0 0;\n",
              "      width: 32px;\n",
              "    }\n",
              "\n",
              "    .colab-df-convert:hover {\n",
              "      background-color: #E2EBFA;\n",
              "      box-shadow: 0px 1px 2px rgba(60, 64, 67, 0.3), 0px 1px 3px 1px rgba(60, 64, 67, 0.15);\n",
              "      fill: #174EA6;\n",
              "    }\n",
              "\n",
              "    [theme=dark] .colab-df-convert {\n",
              "      background-color: #3B4455;\n",
              "      fill: #D2E3FC;\n",
              "    }\n",
              "\n",
              "    [theme=dark] .colab-df-convert:hover {\n",
              "      background-color: #434B5C;\n",
              "      box-shadow: 0px 1px 3px 1px rgba(0, 0, 0, 0.15);\n",
              "      filter: drop-shadow(0px 1px 2px rgba(0, 0, 0, 0.3));\n",
              "      fill: #FFFFFF;\n",
              "    }\n",
              "  </style>\n",
              "\n",
              "      <script>\n",
              "        const buttonEl =\n",
              "          document.querySelector('#df-f383e5ca-a20a-4763-997e-1d7a422f55ba button.colab-df-convert');\n",
              "        buttonEl.style.display =\n",
              "          google.colab.kernel.accessAllowed ? 'block' : 'none';\n",
              "\n",
              "        async function convertToInteractive(key) {\n",
              "          const element = document.querySelector('#df-f383e5ca-a20a-4763-997e-1d7a422f55ba');\n",
              "          const dataTable =\n",
              "            await google.colab.kernel.invokeFunction('convertToInteractive',\n",
              "                                                     [key], {});\n",
              "          if (!dataTable) return;\n",
              "\n",
              "          const docLinkHtml = 'Like what you see? Visit the ' +\n",
              "            '<a target=\"_blank\" href=https://colab.research.google.com/notebooks/data_table.ipynb>data table notebook</a>'\n",
              "            + ' to learn more about interactive tables.';\n",
              "          element.innerHTML = '';\n",
              "          dataTable['output_type'] = 'display_data';\n",
              "          await google.colab.output.renderOutput(dataTable, element);\n",
              "          const docLink = document.createElement('div');\n",
              "          docLink.innerHTML = docLinkHtml;\n",
              "          element.appendChild(docLink);\n",
              "        }\n",
              "      </script>\n",
              "    </div>\n",
              "  </div>\n"
            ]
          },
          "metadata": {},
          "execution_count": 8
        }
      ],
      "source": [
        "data"
      ]
    },
    {
      "cell_type": "markdown",
      "id": "9e2755de",
      "metadata": {
        "id": "9e2755de"
      },
      "source": [
        "# EXPLORATORY DATA ANALYSIS\n",
        "\n",
        "\n",
        "## INITIAL ANALYSIS"
      ]
    },
    {
      "cell_type": "code",
      "execution_count": null,
      "id": "835aadab",
      "metadata": {
        "colab": {
          "base_uri": "https://localhost:8080/"
        },
        "id": "835aadab",
        "outputId": "334c1575-3afe-4adc-ca32-22391a7f6099"
      },
      "outputs": [
        {
          "output_type": "stream",
          "name": "stdout",
          "text": [
            "<class 'pandas.core.frame.DataFrame'>\n",
            "RangeIndex: 2240 entries, 0 to 2239\n",
            "Data columns (total 29 columns):\n",
            " #   Column               Non-Null Count  Dtype         \n",
            "---  ------               --------------  -----         \n",
            " 0   ID                   2240 non-null   int64         \n",
            " 1   Year_Birth           2240 non-null   int64         \n",
            " 2   Education            2240 non-null   object        \n",
            " 3   Marital_Status       2240 non-null   object        \n",
            " 4   Income               2216 non-null   float64       \n",
            " 5   Kidhome              2240 non-null   int64         \n",
            " 6   Teenhome             2240 non-null   int64         \n",
            " 7   Dt_Customer          2240 non-null   datetime64[ns]\n",
            " 8   Recency              2240 non-null   int64         \n",
            " 9   MntWines             2240 non-null   int64         \n",
            " 10  MntFruits            2240 non-null   int64         \n",
            " 11  MntMeatProducts      2240 non-null   int64         \n",
            " 12  MntFishProducts      2240 non-null   int64         \n",
            " 13  MntSweetProducts     2240 non-null   int64         \n",
            " 14  MntGoldProds         2240 non-null   int64         \n",
            " 15  NumDealsPurchases    2240 non-null   int64         \n",
            " 16  NumWebPurchases      2240 non-null   int64         \n",
            " 17  NumCatalogPurchases  2240 non-null   int64         \n",
            " 18  NumStorePurchases    2240 non-null   int64         \n",
            " 19  NumWebVisitsMonth    2240 non-null   int64         \n",
            " 20  AcceptedCmp3         2240 non-null   int64         \n",
            " 21  AcceptedCmp4         2240 non-null   int64         \n",
            " 22  AcceptedCmp5         2240 non-null   int64         \n",
            " 23  AcceptedCmp1         2240 non-null   int64         \n",
            " 24  AcceptedCmp2         2240 non-null   int64         \n",
            " 25  Complain             2240 non-null   int64         \n",
            " 26  Z_CostContact        2240 non-null   int64         \n",
            " 27  Z_Revenue            2240 non-null   int64         \n",
            " 28  Response             2240 non-null   int64         \n",
            "dtypes: datetime64[ns](1), float64(1), int64(25), object(2)\n",
            "memory usage: 507.6+ KB\n"
          ]
        }
      ],
      "source": [
        "data.info()"
      ]
    },
    {
      "cell_type": "code",
      "execution_count": null,
      "id": "94712253",
      "metadata": {
        "colab": {
          "base_uri": "https://localhost:8080/"
        },
        "id": "94712253",
        "outputId": "2c0a34eb-7c6f-4f02-b868-6d81c8940717"
      },
      "outputs": [
        {
          "output_type": "execute_result",
          "data": {
            "text/plain": [
              "(2240, 29)"
            ]
          },
          "metadata": {},
          "execution_count": 10
        }
      ],
      "source": [
        "data.shape"
      ]
    },
    {
      "cell_type": "code",
      "execution_count": null,
      "id": "ca099cc5",
      "metadata": {
        "colab": {
          "base_uri": "https://localhost:8080/"
        },
        "id": "ca099cc5",
        "outputId": "657b9d5b-78c0-471b-fd7f-f1dae0f88d4f"
      },
      "outputs": [
        {
          "output_type": "execute_result",
          "data": {
            "text/plain": [
              "0"
            ]
          },
          "metadata": {},
          "execution_count": 11
        }
      ],
      "source": [
        "data.duplicated().sum()"
      ]
    },
    {
      "cell_type": "code",
      "execution_count": null,
      "id": "57149090",
      "metadata": {
        "colab": {
          "base_uri": "https://localhost:8080/"
        },
        "id": "57149090",
        "outputId": "c4fcaa69-9a4a-4d13-9eb7-4c53a3a76778"
      },
      "outputs": [
        {
          "output_type": "execute_result",
          "data": {
            "text/plain": [
              "ID                     2240\n",
              "Year_Birth               59\n",
              "Education                 5\n",
              "Marital_Status            8\n",
              "Income                 1974\n",
              "Kidhome                   3\n",
              "Teenhome                  3\n",
              "Dt_Customer             663\n",
              "Recency                 100\n",
              "MntWines                776\n",
              "MntFruits               158\n",
              "MntMeatProducts         558\n",
              "MntFishProducts         182\n",
              "MntSweetProducts        177\n",
              "MntGoldProds            213\n",
              "NumDealsPurchases        15\n",
              "NumWebPurchases          15\n",
              "NumCatalogPurchases      14\n",
              "NumStorePurchases        14\n",
              "NumWebVisitsMonth        16\n",
              "AcceptedCmp3              2\n",
              "AcceptedCmp4              2\n",
              "AcceptedCmp5              2\n",
              "AcceptedCmp1              2\n",
              "AcceptedCmp2              2\n",
              "Complain                  2\n",
              "Z_CostContact             1\n",
              "Z_Revenue                 1\n",
              "Response                  2\n",
              "dtype: int64"
            ]
          },
          "metadata": {},
          "execution_count": 12
        }
      ],
      "source": [
        "data.nunique()"
      ]
    },
    {
      "cell_type": "markdown",
      "id": "MZbj3hAJsrFW",
      "metadata": {
        "id": "MZbj3hAJsrFW"
      },
      "source": [
        " - From the above cell \"Z_CostContact\",\"Z_Revenue\" have the same values in their rows and their are not able to contribute in the model building. So that we can drop them."
      ]
    },
    {
      "cell_type": "code",
      "execution_count": null,
      "id": "cfiCNq5Zshu8",
      "metadata": {
        "id": "cfiCNq5Zshu8"
      },
      "outputs": [],
      "source": [
        "data = data.drop(columns=['Z_CostContact','Z_Revenue'],axis = 1)"
      ]
    },
    {
      "cell_type": "code",
      "execution_count": null,
      "id": "25309d1a",
      "metadata": {
        "colab": {
          "base_uri": "https://localhost:8080/",
          "height": 802
        },
        "id": "25309d1a",
        "outputId": "9b0d2e3d-3fe9-42c2-ddb6-0a9c90d24ab1"
      },
      "outputs": [
        {
          "output_type": "execute_result",
          "data": {
            "text/plain": [
              "                      count          mean           std     min       25%  \\\n",
              "ID                   2240.0   5592.159821   3246.662198     0.0   2828.25   \n",
              "Year_Birth           2240.0   1968.805804     11.984069  1893.0   1959.00   \n",
              "Income               2216.0  52247.251354  25173.076661  1730.0  35303.00   \n",
              "Kidhome              2240.0      0.444196      0.538398     0.0      0.00   \n",
              "Teenhome             2240.0      0.506250      0.544538     0.0      0.00   \n",
              "Recency              2240.0     49.109375     28.962453     0.0     24.00   \n",
              "MntWines             2240.0    303.935714    336.597393     0.0     23.75   \n",
              "MntFruits            2240.0     26.302232     39.773434     0.0      1.00   \n",
              "MntMeatProducts      2240.0    166.950000    225.715373     0.0     16.00   \n",
              "MntFishProducts      2240.0     37.525446     54.628979     0.0      3.00   \n",
              "MntSweetProducts     2240.0     27.062946     41.280498     0.0      1.00   \n",
              "MntGoldProds         2240.0     44.021875     52.167439     0.0      9.00   \n",
              "NumDealsPurchases    2240.0      2.325000      1.932238     0.0      1.00   \n",
              "NumWebPurchases      2240.0      4.084821      2.778714     0.0      2.00   \n",
              "NumCatalogPurchases  2240.0      2.662054      2.923101     0.0      0.00   \n",
              "NumStorePurchases    2240.0      5.790179      3.250958     0.0      3.00   \n",
              "NumWebVisitsMonth    2240.0      5.316518      2.426645     0.0      3.00   \n",
              "AcceptedCmp3         2240.0      0.072768      0.259813     0.0      0.00   \n",
              "AcceptedCmp4         2240.0      0.074554      0.262728     0.0      0.00   \n",
              "AcceptedCmp5         2240.0      0.072768      0.259813     0.0      0.00   \n",
              "AcceptedCmp1         2240.0      0.064286      0.245316     0.0      0.00   \n",
              "AcceptedCmp2         2240.0      0.013393      0.114976     0.0      0.00   \n",
              "Complain             2240.0      0.009375      0.096391     0.0      0.00   \n",
              "Response             2240.0      0.149107      0.356274     0.0      0.00   \n",
              "\n",
              "                         50%       75%       max  \n",
              "ID                    5458.5   8427.75   11191.0  \n",
              "Year_Birth            1970.0   1977.00    1996.0  \n",
              "Income               51381.5  68522.00  666666.0  \n",
              "Kidhome                  0.0      1.00       2.0  \n",
              "Teenhome                 0.0      1.00       2.0  \n",
              "Recency                 49.0     74.00      99.0  \n",
              "MntWines               173.5    504.25    1493.0  \n",
              "MntFruits                8.0     33.00     199.0  \n",
              "MntMeatProducts         67.0    232.00    1725.0  \n",
              "MntFishProducts         12.0     50.00     259.0  \n",
              "MntSweetProducts         8.0     33.00     263.0  \n",
              "MntGoldProds            24.0     56.00     362.0  \n",
              "NumDealsPurchases        2.0      3.00      15.0  \n",
              "NumWebPurchases          4.0      6.00      27.0  \n",
              "NumCatalogPurchases      2.0      4.00      28.0  \n",
              "NumStorePurchases        5.0      8.00      13.0  \n",
              "NumWebVisitsMonth        6.0      7.00      20.0  \n",
              "AcceptedCmp3             0.0      0.00       1.0  \n",
              "AcceptedCmp4             0.0      0.00       1.0  \n",
              "AcceptedCmp5             0.0      0.00       1.0  \n",
              "AcceptedCmp1             0.0      0.00       1.0  \n",
              "AcceptedCmp2             0.0      0.00       1.0  \n",
              "Complain                 0.0      0.00       1.0  \n",
              "Response                 0.0      0.00       1.0  "
            ],
            "text/html": [
              "\n",
              "\n",
              "  <div id=\"df-9d77a34e-3d87-4b15-b991-ebb0b231cdd5\">\n",
              "    <div class=\"colab-df-container\">\n",
              "      <div>\n",
              "<style scoped>\n",
              "    .dataframe tbody tr th:only-of-type {\n",
              "        vertical-align: middle;\n",
              "    }\n",
              "\n",
              "    .dataframe tbody tr th {\n",
              "        vertical-align: top;\n",
              "    }\n",
              "\n",
              "    .dataframe thead th {\n",
              "        text-align: right;\n",
              "    }\n",
              "</style>\n",
              "<table border=\"1\" class=\"dataframe\">\n",
              "  <thead>\n",
              "    <tr style=\"text-align: right;\">\n",
              "      <th></th>\n",
              "      <th>count</th>\n",
              "      <th>mean</th>\n",
              "      <th>std</th>\n",
              "      <th>min</th>\n",
              "      <th>25%</th>\n",
              "      <th>50%</th>\n",
              "      <th>75%</th>\n",
              "      <th>max</th>\n",
              "    </tr>\n",
              "  </thead>\n",
              "  <tbody>\n",
              "    <tr>\n",
              "      <th>ID</th>\n",
              "      <td>2240.0</td>\n",
              "      <td>5592.159821</td>\n",
              "      <td>3246.662198</td>\n",
              "      <td>0.0</td>\n",
              "      <td>2828.25</td>\n",
              "      <td>5458.5</td>\n",
              "      <td>8427.75</td>\n",
              "      <td>11191.0</td>\n",
              "    </tr>\n",
              "    <tr>\n",
              "      <th>Year_Birth</th>\n",
              "      <td>2240.0</td>\n",
              "      <td>1968.805804</td>\n",
              "      <td>11.984069</td>\n",
              "      <td>1893.0</td>\n",
              "      <td>1959.00</td>\n",
              "      <td>1970.0</td>\n",
              "      <td>1977.00</td>\n",
              "      <td>1996.0</td>\n",
              "    </tr>\n",
              "    <tr>\n",
              "      <th>Income</th>\n",
              "      <td>2216.0</td>\n",
              "      <td>52247.251354</td>\n",
              "      <td>25173.076661</td>\n",
              "      <td>1730.0</td>\n",
              "      <td>35303.00</td>\n",
              "      <td>51381.5</td>\n",
              "      <td>68522.00</td>\n",
              "      <td>666666.0</td>\n",
              "    </tr>\n",
              "    <tr>\n",
              "      <th>Kidhome</th>\n",
              "      <td>2240.0</td>\n",
              "      <td>0.444196</td>\n",
              "      <td>0.538398</td>\n",
              "      <td>0.0</td>\n",
              "      <td>0.00</td>\n",
              "      <td>0.0</td>\n",
              "      <td>1.00</td>\n",
              "      <td>2.0</td>\n",
              "    </tr>\n",
              "    <tr>\n",
              "      <th>Teenhome</th>\n",
              "      <td>2240.0</td>\n",
              "      <td>0.506250</td>\n",
              "      <td>0.544538</td>\n",
              "      <td>0.0</td>\n",
              "      <td>0.00</td>\n",
              "      <td>0.0</td>\n",
              "      <td>1.00</td>\n",
              "      <td>2.0</td>\n",
              "    </tr>\n",
              "    <tr>\n",
              "      <th>Recency</th>\n",
              "      <td>2240.0</td>\n",
              "      <td>49.109375</td>\n",
              "      <td>28.962453</td>\n",
              "      <td>0.0</td>\n",
              "      <td>24.00</td>\n",
              "      <td>49.0</td>\n",
              "      <td>74.00</td>\n",
              "      <td>99.0</td>\n",
              "    </tr>\n",
              "    <tr>\n",
              "      <th>MntWines</th>\n",
              "      <td>2240.0</td>\n",
              "      <td>303.935714</td>\n",
              "      <td>336.597393</td>\n",
              "      <td>0.0</td>\n",
              "      <td>23.75</td>\n",
              "      <td>173.5</td>\n",
              "      <td>504.25</td>\n",
              "      <td>1493.0</td>\n",
              "    </tr>\n",
              "    <tr>\n",
              "      <th>MntFruits</th>\n",
              "      <td>2240.0</td>\n",
              "      <td>26.302232</td>\n",
              "      <td>39.773434</td>\n",
              "      <td>0.0</td>\n",
              "      <td>1.00</td>\n",
              "      <td>8.0</td>\n",
              "      <td>33.00</td>\n",
              "      <td>199.0</td>\n",
              "    </tr>\n",
              "    <tr>\n",
              "      <th>MntMeatProducts</th>\n",
              "      <td>2240.0</td>\n",
              "      <td>166.950000</td>\n",
              "      <td>225.715373</td>\n",
              "      <td>0.0</td>\n",
              "      <td>16.00</td>\n",
              "      <td>67.0</td>\n",
              "      <td>232.00</td>\n",
              "      <td>1725.0</td>\n",
              "    </tr>\n",
              "    <tr>\n",
              "      <th>MntFishProducts</th>\n",
              "      <td>2240.0</td>\n",
              "      <td>37.525446</td>\n",
              "      <td>54.628979</td>\n",
              "      <td>0.0</td>\n",
              "      <td>3.00</td>\n",
              "      <td>12.0</td>\n",
              "      <td>50.00</td>\n",
              "      <td>259.0</td>\n",
              "    </tr>\n",
              "    <tr>\n",
              "      <th>MntSweetProducts</th>\n",
              "      <td>2240.0</td>\n",
              "      <td>27.062946</td>\n",
              "      <td>41.280498</td>\n",
              "      <td>0.0</td>\n",
              "      <td>1.00</td>\n",
              "      <td>8.0</td>\n",
              "      <td>33.00</td>\n",
              "      <td>263.0</td>\n",
              "    </tr>\n",
              "    <tr>\n",
              "      <th>MntGoldProds</th>\n",
              "      <td>2240.0</td>\n",
              "      <td>44.021875</td>\n",
              "      <td>52.167439</td>\n",
              "      <td>0.0</td>\n",
              "      <td>9.00</td>\n",
              "      <td>24.0</td>\n",
              "      <td>56.00</td>\n",
              "      <td>362.0</td>\n",
              "    </tr>\n",
              "    <tr>\n",
              "      <th>NumDealsPurchases</th>\n",
              "      <td>2240.0</td>\n",
              "      <td>2.325000</td>\n",
              "      <td>1.932238</td>\n",
              "      <td>0.0</td>\n",
              "      <td>1.00</td>\n",
              "      <td>2.0</td>\n",
              "      <td>3.00</td>\n",
              "      <td>15.0</td>\n",
              "    </tr>\n",
              "    <tr>\n",
              "      <th>NumWebPurchases</th>\n",
              "      <td>2240.0</td>\n",
              "      <td>4.084821</td>\n",
              "      <td>2.778714</td>\n",
              "      <td>0.0</td>\n",
              "      <td>2.00</td>\n",
              "      <td>4.0</td>\n",
              "      <td>6.00</td>\n",
              "      <td>27.0</td>\n",
              "    </tr>\n",
              "    <tr>\n",
              "      <th>NumCatalogPurchases</th>\n",
              "      <td>2240.0</td>\n",
              "      <td>2.662054</td>\n",
              "      <td>2.923101</td>\n",
              "      <td>0.0</td>\n",
              "      <td>0.00</td>\n",
              "      <td>2.0</td>\n",
              "      <td>4.00</td>\n",
              "      <td>28.0</td>\n",
              "    </tr>\n",
              "    <tr>\n",
              "      <th>NumStorePurchases</th>\n",
              "      <td>2240.0</td>\n",
              "      <td>5.790179</td>\n",
              "      <td>3.250958</td>\n",
              "      <td>0.0</td>\n",
              "      <td>3.00</td>\n",
              "      <td>5.0</td>\n",
              "      <td>8.00</td>\n",
              "      <td>13.0</td>\n",
              "    </tr>\n",
              "    <tr>\n",
              "      <th>NumWebVisitsMonth</th>\n",
              "      <td>2240.0</td>\n",
              "      <td>5.316518</td>\n",
              "      <td>2.426645</td>\n",
              "      <td>0.0</td>\n",
              "      <td>3.00</td>\n",
              "      <td>6.0</td>\n",
              "      <td>7.00</td>\n",
              "      <td>20.0</td>\n",
              "    </tr>\n",
              "    <tr>\n",
              "      <th>AcceptedCmp3</th>\n",
              "      <td>2240.0</td>\n",
              "      <td>0.072768</td>\n",
              "      <td>0.259813</td>\n",
              "      <td>0.0</td>\n",
              "      <td>0.00</td>\n",
              "      <td>0.0</td>\n",
              "      <td>0.00</td>\n",
              "      <td>1.0</td>\n",
              "    </tr>\n",
              "    <tr>\n",
              "      <th>AcceptedCmp4</th>\n",
              "      <td>2240.0</td>\n",
              "      <td>0.074554</td>\n",
              "      <td>0.262728</td>\n",
              "      <td>0.0</td>\n",
              "      <td>0.00</td>\n",
              "      <td>0.0</td>\n",
              "      <td>0.00</td>\n",
              "      <td>1.0</td>\n",
              "    </tr>\n",
              "    <tr>\n",
              "      <th>AcceptedCmp5</th>\n",
              "      <td>2240.0</td>\n",
              "      <td>0.072768</td>\n",
              "      <td>0.259813</td>\n",
              "      <td>0.0</td>\n",
              "      <td>0.00</td>\n",
              "      <td>0.0</td>\n",
              "      <td>0.00</td>\n",
              "      <td>1.0</td>\n",
              "    </tr>\n",
              "    <tr>\n",
              "      <th>AcceptedCmp1</th>\n",
              "      <td>2240.0</td>\n",
              "      <td>0.064286</td>\n",
              "      <td>0.245316</td>\n",
              "      <td>0.0</td>\n",
              "      <td>0.00</td>\n",
              "      <td>0.0</td>\n",
              "      <td>0.00</td>\n",
              "      <td>1.0</td>\n",
              "    </tr>\n",
              "    <tr>\n",
              "      <th>AcceptedCmp2</th>\n",
              "      <td>2240.0</td>\n",
              "      <td>0.013393</td>\n",
              "      <td>0.114976</td>\n",
              "      <td>0.0</td>\n",
              "      <td>0.00</td>\n",
              "      <td>0.0</td>\n",
              "      <td>0.00</td>\n",
              "      <td>1.0</td>\n",
              "    </tr>\n",
              "    <tr>\n",
              "      <th>Complain</th>\n",
              "      <td>2240.0</td>\n",
              "      <td>0.009375</td>\n",
              "      <td>0.096391</td>\n",
              "      <td>0.0</td>\n",
              "      <td>0.00</td>\n",
              "      <td>0.0</td>\n",
              "      <td>0.00</td>\n",
              "      <td>1.0</td>\n",
              "    </tr>\n",
              "    <tr>\n",
              "      <th>Response</th>\n",
              "      <td>2240.0</td>\n",
              "      <td>0.149107</td>\n",
              "      <td>0.356274</td>\n",
              "      <td>0.0</td>\n",
              "      <td>0.00</td>\n",
              "      <td>0.0</td>\n",
              "      <td>0.00</td>\n",
              "      <td>1.0</td>\n",
              "    </tr>\n",
              "  </tbody>\n",
              "</table>\n",
              "</div>\n",
              "      <button class=\"colab-df-convert\" onclick=\"convertToInteractive('df-9d77a34e-3d87-4b15-b991-ebb0b231cdd5')\"\n",
              "              title=\"Convert this dataframe to an interactive table.\"\n",
              "              style=\"display:none;\">\n",
              "\n",
              "  <svg xmlns=\"http://www.w3.org/2000/svg\" height=\"24px\"viewBox=\"0 0 24 24\"\n",
              "       width=\"24px\">\n",
              "    <path d=\"M0 0h24v24H0V0z\" fill=\"none\"/>\n",
              "    <path d=\"M18.56 5.44l.94 2.06.94-2.06 2.06-.94-2.06-.94-.94-2.06-.94 2.06-2.06.94zm-11 1L8.5 8.5l.94-2.06 2.06-.94-2.06-.94L8.5 2.5l-.94 2.06-2.06.94zm10 10l.94 2.06.94-2.06 2.06-.94-2.06-.94-.94-2.06-.94 2.06-2.06.94z\"/><path d=\"M17.41 7.96l-1.37-1.37c-.4-.4-.92-.59-1.43-.59-.52 0-1.04.2-1.43.59L10.3 9.45l-7.72 7.72c-.78.78-.78 2.05 0 2.83L4 21.41c.39.39.9.59 1.41.59.51 0 1.02-.2 1.41-.59l7.78-7.78 2.81-2.81c.8-.78.8-2.07 0-2.86zM5.41 20L4 18.59l7.72-7.72 1.47 1.35L5.41 20z\"/>\n",
              "  </svg>\n",
              "      </button>\n",
              "\n",
              "\n",
              "\n",
              "    <div id=\"df-8d3d55b4-82bd-4d64-90b8-0f5582dd4417\">\n",
              "      <button class=\"colab-df-quickchart\" onclick=\"quickchart('df-8d3d55b4-82bd-4d64-90b8-0f5582dd4417')\"\n",
              "              title=\"Suggest charts.\"\n",
              "              style=\"display:none;\">\n",
              "\n",
              "<svg xmlns=\"http://www.w3.org/2000/svg\" height=\"24px\"viewBox=\"0 0 24 24\"\n",
              "     width=\"24px\">\n",
              "    <g>\n",
              "        <path d=\"M19 3H5c-1.1 0-2 .9-2 2v14c0 1.1.9 2 2 2h14c1.1 0 2-.9 2-2V5c0-1.1-.9-2-2-2zM9 17H7v-7h2v7zm4 0h-2V7h2v10zm4 0h-2v-4h2v4z\"/>\n",
              "    </g>\n",
              "</svg>\n",
              "      </button>\n",
              "    </div>\n",
              "\n",
              "<style>\n",
              "  .colab-df-quickchart {\n",
              "    background-color: #E8F0FE;\n",
              "    border: none;\n",
              "    border-radius: 50%;\n",
              "    cursor: pointer;\n",
              "    display: none;\n",
              "    fill: #1967D2;\n",
              "    height: 32px;\n",
              "    padding: 0 0 0 0;\n",
              "    width: 32px;\n",
              "  }\n",
              "\n",
              "  .colab-df-quickchart:hover {\n",
              "    background-color: #E2EBFA;\n",
              "    box-shadow: 0px 1px 2px rgba(60, 64, 67, 0.3), 0px 1px 3px 1px rgba(60, 64, 67, 0.15);\n",
              "    fill: #174EA6;\n",
              "  }\n",
              "\n",
              "  [theme=dark] .colab-df-quickchart {\n",
              "    background-color: #3B4455;\n",
              "    fill: #D2E3FC;\n",
              "  }\n",
              "\n",
              "  [theme=dark] .colab-df-quickchart:hover {\n",
              "    background-color: #434B5C;\n",
              "    box-shadow: 0px 1px 3px 1px rgba(0, 0, 0, 0.15);\n",
              "    filter: drop-shadow(0px 1px 2px rgba(0, 0, 0, 0.3));\n",
              "    fill: #FFFFFF;\n",
              "  }\n",
              "</style>\n",
              "\n",
              "    <script>\n",
              "      async function quickchart(key) {\n",
              "        const containerElement = document.querySelector('#' + key);\n",
              "        const charts = await google.colab.kernel.invokeFunction(\n",
              "            'suggestCharts', [key], {});\n",
              "      }\n",
              "    </script>\n",
              "\n",
              "      <script>\n",
              "\n",
              "function displayQuickchartButton(domScope) {\n",
              "  let quickchartButtonEl =\n",
              "    domScope.querySelector('#df-8d3d55b4-82bd-4d64-90b8-0f5582dd4417 button.colab-df-quickchart');\n",
              "  quickchartButtonEl.style.display =\n",
              "    google.colab.kernel.accessAllowed ? 'block' : 'none';\n",
              "}\n",
              "\n",
              "        displayQuickchartButton(document);\n",
              "      </script>\n",
              "      <style>\n",
              "    .colab-df-container {\n",
              "      display:flex;\n",
              "      flex-wrap:wrap;\n",
              "      gap: 12px;\n",
              "    }\n",
              "\n",
              "    .colab-df-convert {\n",
              "      background-color: #E8F0FE;\n",
              "      border: none;\n",
              "      border-radius: 50%;\n",
              "      cursor: pointer;\n",
              "      display: none;\n",
              "      fill: #1967D2;\n",
              "      height: 32px;\n",
              "      padding: 0 0 0 0;\n",
              "      width: 32px;\n",
              "    }\n",
              "\n",
              "    .colab-df-convert:hover {\n",
              "      background-color: #E2EBFA;\n",
              "      box-shadow: 0px 1px 2px rgba(60, 64, 67, 0.3), 0px 1px 3px 1px rgba(60, 64, 67, 0.15);\n",
              "      fill: #174EA6;\n",
              "    }\n",
              "\n",
              "    [theme=dark] .colab-df-convert {\n",
              "      background-color: #3B4455;\n",
              "      fill: #D2E3FC;\n",
              "    }\n",
              "\n",
              "    [theme=dark] .colab-df-convert:hover {\n",
              "      background-color: #434B5C;\n",
              "      box-shadow: 0px 1px 3px 1px rgba(0, 0, 0, 0.15);\n",
              "      filter: drop-shadow(0px 1px 2px rgba(0, 0, 0, 0.3));\n",
              "      fill: #FFFFFF;\n",
              "    }\n",
              "  </style>\n",
              "\n",
              "      <script>\n",
              "        const buttonEl =\n",
              "          document.querySelector('#df-9d77a34e-3d87-4b15-b991-ebb0b231cdd5 button.colab-df-convert');\n",
              "        buttonEl.style.display =\n",
              "          google.colab.kernel.accessAllowed ? 'block' : 'none';\n",
              "\n",
              "        async function convertToInteractive(key) {\n",
              "          const element = document.querySelector('#df-9d77a34e-3d87-4b15-b991-ebb0b231cdd5');\n",
              "          const dataTable =\n",
              "            await google.colab.kernel.invokeFunction('convertToInteractive',\n",
              "                                                     [key], {});\n",
              "          if (!dataTable) return;\n",
              "\n",
              "          const docLinkHtml = 'Like what you see? Visit the ' +\n",
              "            '<a target=\"_blank\" href=https://colab.research.google.com/notebooks/data_table.ipynb>data table notebook</a>'\n",
              "            + ' to learn more about interactive tables.';\n",
              "          element.innerHTML = '';\n",
              "          dataTable['output_type'] = 'display_data';\n",
              "          await google.colab.output.renderOutput(dataTable, element);\n",
              "          const docLink = document.createElement('div');\n",
              "          docLink.innerHTML = docLinkHtml;\n",
              "          element.appendChild(docLink);\n",
              "        }\n",
              "      </script>\n",
              "    </div>\n",
              "  </div>\n"
            ]
          },
          "metadata": {},
          "execution_count": 14
        }
      ],
      "source": [
        "data.describe().T"
      ]
    },
    {
      "cell_type": "code",
      "execution_count": null,
      "id": "4186dca2",
      "metadata": {
        "colab": {
          "base_uri": "https://localhost:8080/"
        },
        "id": "4186dca2",
        "outputId": "e7e3ea41-9181-4ea6-8f23-dad416505412"
      },
      "outputs": [
        {
          "output_type": "execute_result",
          "data": {
            "text/plain": [
              "ID                      0\n",
              "Year_Birth              0\n",
              "Education               0\n",
              "Marital_Status          0\n",
              "Income                 24\n",
              "Kidhome                 0\n",
              "Teenhome                0\n",
              "Dt_Customer             0\n",
              "Recency                 0\n",
              "MntWines                0\n",
              "MntFruits               0\n",
              "MntMeatProducts         0\n",
              "MntFishProducts         0\n",
              "MntSweetProducts        0\n",
              "MntGoldProds            0\n",
              "NumDealsPurchases       0\n",
              "NumWebPurchases         0\n",
              "NumCatalogPurchases     0\n",
              "NumStorePurchases       0\n",
              "NumWebVisitsMonth       0\n",
              "AcceptedCmp3            0\n",
              "AcceptedCmp4            0\n",
              "AcceptedCmp5            0\n",
              "AcceptedCmp1            0\n",
              "AcceptedCmp2            0\n",
              "Complain                0\n",
              "Response                0\n",
              "dtype: int64"
            ]
          },
          "metadata": {},
          "execution_count": 15
        }
      ],
      "source": [
        "data.isnull().sum()"
      ]
    },
    {
      "cell_type": "markdown",
      "id": "c8726ed1",
      "metadata": {
        "id": "c8726ed1"
      },
      "source": [
        "Observations:\n",
        "\n",
        "1. Data contains 2240 rows and 29 columns.\n",
        "\n",
        "2. It has 1 float, 3 object and 25 int columns.\n",
        "\n",
        "3. There are no duplicate values within data.\n",
        "\n",
        "4. There are 24 missing values in Income column."
      ]
    },
    {
      "cell_type": "markdown",
      "id": "b2ec1de1",
      "metadata": {
        "id": "b2ec1de1"
      },
      "source": [
        "## UNIVARIATE ANALYSIS WITH DATA VISUALIZATION"
      ]
    },
    {
      "cell_type": "markdown",
      "id": "6ebfb72a",
      "metadata": {
        "id": "6ebfb72a"
      },
      "source": [
        "### PERFORMING ANALYSIS ON PEOPLE ATTRIBUTES"
      ]
    },
    {
      "cell_type": "markdown",
      "id": "952d8bc5",
      "metadata": {
        "id": "952d8bc5"
      },
      "source": [
        "#### 1. ID - Customer's unique identifier\n",
        "\n",
        "Non-informative: If the \"id\" column contains unique identifiers for each customer, it may not provide any meaningful insights or predictive value for your analysis. In such cases, removing the column avoids unnecessary noise in the data."
      ]
    },
    {
      "cell_type": "code",
      "execution_count": null,
      "id": "YrUJw-LhtHT8",
      "metadata": {
        "id": "YrUJw-LhtHT8"
      },
      "outputs": [],
      "source": [
        "data = data.drop(columns=['ID'],axis = 1)"
      ]
    },
    {
      "cell_type": "markdown",
      "id": "cEH5wuottVe-",
      "metadata": {
        "id": "cEH5wuottVe-"
      },
      "source": [
        " - ID has all unique values, so we can drop them\n"
      ]
    },
    {
      "cell_type": "markdown",
      "id": "a9843717",
      "metadata": {
        "id": "a9843717"
      },
      "source": [
        "#### 2. Year_Birth - Customer's Birth Year\n",
        "\n",
        "Intuitive interpretation: Age is a commonly understood and easily interpretable variable. It provides a direct understanding of a customer's age in years, which can be more meaningful than dealing with birth years.\n"
      ]
    },
    {
      "cell_type": "code",
      "execution_count": null,
      "id": "4faadc71",
      "metadata": {
        "colab": {
          "base_uri": "https://localhost:8080/",
          "height": 300
        },
        "id": "4faadc71",
        "outputId": "c6c8c2c2-704e-4450-e818-3ccf0c25c855"
      },
      "outputs": [
        {
          "output_type": "execute_result",
          "data": {
            "text/plain": [
              "    Education Marital_Status   Income  Kidhome  Teenhome Dt_Customer  Recency  \\\n",
              "0  Graduation         Single  58138.0        0         0  2012-09-04       58   \n",
              "1  Graduation         Single  46344.0        1         1  2014-03-08       38   \n",
              "2  Graduation       Together  71613.0        0         0  2013-08-21       26   \n",
              "3  Graduation       Together  26646.0        1         0  2014-02-10       26   \n",
              "4         PhD        Married  58293.0        1         0  2014-01-19       94   \n",
              "\n",
              "   MntWines  MntFruits  MntMeatProducts  ...  NumStorePurchases  \\\n",
              "0       635         88              546  ...                  4   \n",
              "1        11          1                6  ...                  2   \n",
              "2       426         49              127  ...                 10   \n",
              "3        11          4               20  ...                  4   \n",
              "4       173         43              118  ...                  6   \n",
              "\n",
              "   NumWebVisitsMonth  AcceptedCmp3  AcceptedCmp4  AcceptedCmp5  AcceptedCmp1  \\\n",
              "0                  7             0             0             0             0   \n",
              "1                  5             0             0             0             0   \n",
              "2                  4             0             0             0             0   \n",
              "3                  6             0             0             0             0   \n",
              "4                  5             0             0             0             0   \n",
              "\n",
              "   AcceptedCmp2  Complain  Response  Customer_Age  \n",
              "0             0         0         1            66  \n",
              "1             0         0         0            69  \n",
              "2             0         0         0            58  \n",
              "3             0         0         0            39  \n",
              "4             0         0         0            42  \n",
              "\n",
              "[5 rows x 26 columns]"
            ],
            "text/html": [
              "\n",
              "\n",
              "  <div id=\"df-10732557-b37b-4942-bfec-d14433610161\">\n",
              "    <div class=\"colab-df-container\">\n",
              "      <div>\n",
              "<style scoped>\n",
              "    .dataframe tbody tr th:only-of-type {\n",
              "        vertical-align: middle;\n",
              "    }\n",
              "\n",
              "    .dataframe tbody tr th {\n",
              "        vertical-align: top;\n",
              "    }\n",
              "\n",
              "    .dataframe thead th {\n",
              "        text-align: right;\n",
              "    }\n",
              "</style>\n",
              "<table border=\"1\" class=\"dataframe\">\n",
              "  <thead>\n",
              "    <tr style=\"text-align: right;\">\n",
              "      <th></th>\n",
              "      <th>Education</th>\n",
              "      <th>Marital_Status</th>\n",
              "      <th>Income</th>\n",
              "      <th>Kidhome</th>\n",
              "      <th>Teenhome</th>\n",
              "      <th>Dt_Customer</th>\n",
              "      <th>Recency</th>\n",
              "      <th>MntWines</th>\n",
              "      <th>MntFruits</th>\n",
              "      <th>MntMeatProducts</th>\n",
              "      <th>...</th>\n",
              "      <th>NumStorePurchases</th>\n",
              "      <th>NumWebVisitsMonth</th>\n",
              "      <th>AcceptedCmp3</th>\n",
              "      <th>AcceptedCmp4</th>\n",
              "      <th>AcceptedCmp5</th>\n",
              "      <th>AcceptedCmp1</th>\n",
              "      <th>AcceptedCmp2</th>\n",
              "      <th>Complain</th>\n",
              "      <th>Response</th>\n",
              "      <th>Customer_Age</th>\n",
              "    </tr>\n",
              "  </thead>\n",
              "  <tbody>\n",
              "    <tr>\n",
              "      <th>0</th>\n",
              "      <td>Graduation</td>\n",
              "      <td>Single</td>\n",
              "      <td>58138.0</td>\n",
              "      <td>0</td>\n",
              "      <td>0</td>\n",
              "      <td>2012-09-04</td>\n",
              "      <td>58</td>\n",
              "      <td>635</td>\n",
              "      <td>88</td>\n",
              "      <td>546</td>\n",
              "      <td>...</td>\n",
              "      <td>4</td>\n",
              "      <td>7</td>\n",
              "      <td>0</td>\n",
              "      <td>0</td>\n",
              "      <td>0</td>\n",
              "      <td>0</td>\n",
              "      <td>0</td>\n",
              "      <td>0</td>\n",
              "      <td>1</td>\n",
              "      <td>66</td>\n",
              "    </tr>\n",
              "    <tr>\n",
              "      <th>1</th>\n",
              "      <td>Graduation</td>\n",
              "      <td>Single</td>\n",
              "      <td>46344.0</td>\n",
              "      <td>1</td>\n",
              "      <td>1</td>\n",
              "      <td>2014-03-08</td>\n",
              "      <td>38</td>\n",
              "      <td>11</td>\n",
              "      <td>1</td>\n",
              "      <td>6</td>\n",
              "      <td>...</td>\n",
              "      <td>2</td>\n",
              "      <td>5</td>\n",
              "      <td>0</td>\n",
              "      <td>0</td>\n",
              "      <td>0</td>\n",
              "      <td>0</td>\n",
              "      <td>0</td>\n",
              "      <td>0</td>\n",
              "      <td>0</td>\n",
              "      <td>69</td>\n",
              "    </tr>\n",
              "    <tr>\n",
              "      <th>2</th>\n",
              "      <td>Graduation</td>\n",
              "      <td>Together</td>\n",
              "      <td>71613.0</td>\n",
              "      <td>0</td>\n",
              "      <td>0</td>\n",
              "      <td>2013-08-21</td>\n",
              "      <td>26</td>\n",
              "      <td>426</td>\n",
              "      <td>49</td>\n",
              "      <td>127</td>\n",
              "      <td>...</td>\n",
              "      <td>10</td>\n",
              "      <td>4</td>\n",
              "      <td>0</td>\n",
              "      <td>0</td>\n",
              "      <td>0</td>\n",
              "      <td>0</td>\n",
              "      <td>0</td>\n",
              "      <td>0</td>\n",
              "      <td>0</td>\n",
              "      <td>58</td>\n",
              "    </tr>\n",
              "    <tr>\n",
              "      <th>3</th>\n",
              "      <td>Graduation</td>\n",
              "      <td>Together</td>\n",
              "      <td>26646.0</td>\n",
              "      <td>1</td>\n",
              "      <td>0</td>\n",
              "      <td>2014-02-10</td>\n",
              "      <td>26</td>\n",
              "      <td>11</td>\n",
              "      <td>4</td>\n",
              "      <td>20</td>\n",
              "      <td>...</td>\n",
              "      <td>4</td>\n",
              "      <td>6</td>\n",
              "      <td>0</td>\n",
              "      <td>0</td>\n",
              "      <td>0</td>\n",
              "      <td>0</td>\n",
              "      <td>0</td>\n",
              "      <td>0</td>\n",
              "      <td>0</td>\n",
              "      <td>39</td>\n",
              "    </tr>\n",
              "    <tr>\n",
              "      <th>4</th>\n",
              "      <td>PhD</td>\n",
              "      <td>Married</td>\n",
              "      <td>58293.0</td>\n",
              "      <td>1</td>\n",
              "      <td>0</td>\n",
              "      <td>2014-01-19</td>\n",
              "      <td>94</td>\n",
              "      <td>173</td>\n",
              "      <td>43</td>\n",
              "      <td>118</td>\n",
              "      <td>...</td>\n",
              "      <td>6</td>\n",
              "      <td>5</td>\n",
              "      <td>0</td>\n",
              "      <td>0</td>\n",
              "      <td>0</td>\n",
              "      <td>0</td>\n",
              "      <td>0</td>\n",
              "      <td>0</td>\n",
              "      <td>0</td>\n",
              "      <td>42</td>\n",
              "    </tr>\n",
              "  </tbody>\n",
              "</table>\n",
              "<p>5 rows × 26 columns</p>\n",
              "</div>\n",
              "      <button class=\"colab-df-convert\" onclick=\"convertToInteractive('df-10732557-b37b-4942-bfec-d14433610161')\"\n",
              "              title=\"Convert this dataframe to an interactive table.\"\n",
              "              style=\"display:none;\">\n",
              "\n",
              "  <svg xmlns=\"http://www.w3.org/2000/svg\" height=\"24px\"viewBox=\"0 0 24 24\"\n",
              "       width=\"24px\">\n",
              "    <path d=\"M0 0h24v24H0V0z\" fill=\"none\"/>\n",
              "    <path d=\"M18.56 5.44l.94 2.06.94-2.06 2.06-.94-2.06-.94-.94-2.06-.94 2.06-2.06.94zm-11 1L8.5 8.5l.94-2.06 2.06-.94-2.06-.94L8.5 2.5l-.94 2.06-2.06.94zm10 10l.94 2.06.94-2.06 2.06-.94-2.06-.94-.94-2.06-.94 2.06-2.06.94z\"/><path d=\"M17.41 7.96l-1.37-1.37c-.4-.4-.92-.59-1.43-.59-.52 0-1.04.2-1.43.59L10.3 9.45l-7.72 7.72c-.78.78-.78 2.05 0 2.83L4 21.41c.39.39.9.59 1.41.59.51 0 1.02-.2 1.41-.59l7.78-7.78 2.81-2.81c.8-.78.8-2.07 0-2.86zM5.41 20L4 18.59l7.72-7.72 1.47 1.35L5.41 20z\"/>\n",
              "  </svg>\n",
              "      </button>\n",
              "\n",
              "\n",
              "\n",
              "    <div id=\"df-fe841544-1ce3-4efd-bc2a-d0219f228bc7\">\n",
              "      <button class=\"colab-df-quickchart\" onclick=\"quickchart('df-fe841544-1ce3-4efd-bc2a-d0219f228bc7')\"\n",
              "              title=\"Suggest charts.\"\n",
              "              style=\"display:none;\">\n",
              "\n",
              "<svg xmlns=\"http://www.w3.org/2000/svg\" height=\"24px\"viewBox=\"0 0 24 24\"\n",
              "     width=\"24px\">\n",
              "    <g>\n",
              "        <path d=\"M19 3H5c-1.1 0-2 .9-2 2v14c0 1.1.9 2 2 2h14c1.1 0 2-.9 2-2V5c0-1.1-.9-2-2-2zM9 17H7v-7h2v7zm4 0h-2V7h2v10zm4 0h-2v-4h2v4z\"/>\n",
              "    </g>\n",
              "</svg>\n",
              "      </button>\n",
              "    </div>\n",
              "\n",
              "<style>\n",
              "  .colab-df-quickchart {\n",
              "    background-color: #E8F0FE;\n",
              "    border: none;\n",
              "    border-radius: 50%;\n",
              "    cursor: pointer;\n",
              "    display: none;\n",
              "    fill: #1967D2;\n",
              "    height: 32px;\n",
              "    padding: 0 0 0 0;\n",
              "    width: 32px;\n",
              "  }\n",
              "\n",
              "  .colab-df-quickchart:hover {\n",
              "    background-color: #E2EBFA;\n",
              "    box-shadow: 0px 1px 2px rgba(60, 64, 67, 0.3), 0px 1px 3px 1px rgba(60, 64, 67, 0.15);\n",
              "    fill: #174EA6;\n",
              "  }\n",
              "\n",
              "  [theme=dark] .colab-df-quickchart {\n",
              "    background-color: #3B4455;\n",
              "    fill: #D2E3FC;\n",
              "  }\n",
              "\n",
              "  [theme=dark] .colab-df-quickchart:hover {\n",
              "    background-color: #434B5C;\n",
              "    box-shadow: 0px 1px 3px 1px rgba(0, 0, 0, 0.15);\n",
              "    filter: drop-shadow(0px 1px 2px rgba(0, 0, 0, 0.3));\n",
              "    fill: #FFFFFF;\n",
              "  }\n",
              "</style>\n",
              "\n",
              "    <script>\n",
              "      async function quickchart(key) {\n",
              "        const containerElement = document.querySelector('#' + key);\n",
              "        const charts = await google.colab.kernel.invokeFunction(\n",
              "            'suggestCharts', [key], {});\n",
              "      }\n",
              "    </script>\n",
              "\n",
              "      <script>\n",
              "\n",
              "function displayQuickchartButton(domScope) {\n",
              "  let quickchartButtonEl =\n",
              "    domScope.querySelector('#df-fe841544-1ce3-4efd-bc2a-d0219f228bc7 button.colab-df-quickchart');\n",
              "  quickchartButtonEl.style.display =\n",
              "    google.colab.kernel.accessAllowed ? 'block' : 'none';\n",
              "}\n",
              "\n",
              "        displayQuickchartButton(document);\n",
              "      </script>\n",
              "      <style>\n",
              "    .colab-df-container {\n",
              "      display:flex;\n",
              "      flex-wrap:wrap;\n",
              "      gap: 12px;\n",
              "    }\n",
              "\n",
              "    .colab-df-convert {\n",
              "      background-color: #E8F0FE;\n",
              "      border: none;\n",
              "      border-radius: 50%;\n",
              "      cursor: pointer;\n",
              "      display: none;\n",
              "      fill: #1967D2;\n",
              "      height: 32px;\n",
              "      padding: 0 0 0 0;\n",
              "      width: 32px;\n",
              "    }\n",
              "\n",
              "    .colab-df-convert:hover {\n",
              "      background-color: #E2EBFA;\n",
              "      box-shadow: 0px 1px 2px rgba(60, 64, 67, 0.3), 0px 1px 3px 1px rgba(60, 64, 67, 0.15);\n",
              "      fill: #174EA6;\n",
              "    }\n",
              "\n",
              "    [theme=dark] .colab-df-convert {\n",
              "      background-color: #3B4455;\n",
              "      fill: #D2E3FC;\n",
              "    }\n",
              "\n",
              "    [theme=dark] .colab-df-convert:hover {\n",
              "      background-color: #434B5C;\n",
              "      box-shadow: 0px 1px 3px 1px rgba(0, 0, 0, 0.15);\n",
              "      filter: drop-shadow(0px 1px 2px rgba(0, 0, 0, 0.3));\n",
              "      fill: #FFFFFF;\n",
              "    }\n",
              "  </style>\n",
              "\n",
              "      <script>\n",
              "        const buttonEl =\n",
              "          document.querySelector('#df-10732557-b37b-4942-bfec-d14433610161 button.colab-df-convert');\n",
              "        buttonEl.style.display =\n",
              "          google.colab.kernel.accessAllowed ? 'block' : 'none';\n",
              "\n",
              "        async function convertToInteractive(key) {\n",
              "          const element = document.querySelector('#df-10732557-b37b-4942-bfec-d14433610161');\n",
              "          const dataTable =\n",
              "            await google.colab.kernel.invokeFunction('convertToInteractive',\n",
              "                                                     [key], {});\n",
              "          if (!dataTable) return;\n",
              "\n",
              "          const docLinkHtml = 'Like what you see? Visit the ' +\n",
              "            '<a target=\"_blank\" href=https://colab.research.google.com/notebooks/data_table.ipynb>data table notebook</a>'\n",
              "            + ' to learn more about interactive tables.';\n",
              "          element.innerHTML = '';\n",
              "          dataTable['output_type'] = 'display_data';\n",
              "          await google.colab.output.renderOutput(dataTable, element);\n",
              "          const docLink = document.createElement('div');\n",
              "          docLink.innerHTML = docLinkHtml;\n",
              "          element.appendChild(docLink);\n",
              "        }\n",
              "      </script>\n",
              "    </div>\n",
              "  </div>\n"
            ]
          },
          "metadata": {},
          "execution_count": 17
        }
      ],
      "source": [
        "#Converting the Year_Birth to customer_Age\n",
        "\n",
        "#Replacing the Year_Birth column with \"Customer_Age\"\n",
        "\n",
        "\n",
        "data['Customer_Age'] = (pd.Timestamp('now').year) - data['Year_Birth']\n",
        "data = data.drop(columns=['Year_Birth'],axis = 1)\n",
        "data.head()"
      ]
    },
    {
      "cell_type": "code",
      "execution_count": null,
      "id": "8d07da45",
      "metadata": {
        "colab": {
          "base_uri": "https://localhost:8080/",
          "height": 718
        },
        "id": "8d07da45",
        "outputId": "2ca2ded1-c452-472c-dcf5-73bd44470fc5"
      },
      "outputs": [
        {
          "output_type": "display_data",
          "data": {
            "text/plain": [
              "<Figure size 1200x800 with 1 Axes>"
            ],
            "image/png": "[encoded data removed]"
          },
          "metadata": {}
        }
      ],
      "source": [
        "#Visualizing 'Customer_Age' Column:-\n",
        "\n",
        "import matplotlib.pyplot as plt\n",
        "import seaborn as sns\n",
        "\n",
        "def hist_V(col):\n",
        "    plt.figure(figsize=(12, 8))\n",
        "    sns.histplot(data[col], kde=True)\n",
        "    plt.xlabel(col)\n",
        "    plt.ylabel('Frequency')\n",
        "    plt.title(f'Histogram of {col}')\n",
        "    plt.show()\n",
        "\n",
        "hist_V('Customer_Age')\n"
      ]
    },
    {
      "cell_type": "markdown",
      "id": "1366f1b6",
      "metadata": {
        "id": "1366f1b6"
      },
      "source": [
        " - As we can see from the barplot, most customers are from the range of 43–59 years old."
      ]
    },
    {
      "cell_type": "code",
      "execution_count": null,
      "id": "64fe9c26",
      "metadata": {
        "colab": {
          "base_uri": "https://localhost:8080/",
          "height": 573
        },
        "id": "64fe9c26",
        "outputId": "8c4e2e6d-8f7d-4d3b-eeca-cf68dc1238aa"
      },
      "outputs": [
        {
          "output_type": "display_data",
          "data": {
            "text/plain": [
              "<Figure size 1000x600 with 1 Axes>"
            ],
            "image/png": "[encoded data removed]"
          },
          "metadata": {}
        }
      ],
      "source": [
        "#Checking the outliers present in Customer's Age\n",
        "\n",
        "sns.set(style=\"whitegrid\")\n",
        "plt.figure(figsize=(10, 6))\n",
        "sns.boxenplot(data[\"Customer_Age\"])\n",
        "plt.xlabel(\"Customer Age\")\n",
        "plt.title(\"Boxen Plot - Customer Age\")\n",
        "plt.show()"
      ]
    },
    {
      "cell_type": "markdown",
      "id": "8b8f80b5",
      "metadata": {
        "id": "8b8f80b5"
      },
      "source": [
        " - As we can see from the above boxplot there are outliers which we need to take care of as the Customer_Age is more than 90 Years."
      ]
    },
    {
      "cell_type": "code",
      "execution_count": null,
      "id": "c6719c57",
      "metadata": {
        "id": "c6719c57"
      },
      "outputs": [],
      "source": [
        "#Removing the outliers from the Customer's_Age\n",
        "\n",
        "data = data[data['Customer_Age'] < 90]"
      ]
    },
    {
      "cell_type": "code",
      "execution_count": null,
      "id": "F06O8hljwRzs",
      "metadata": {
        "colab": {
          "base_uri": "https://localhost:8080/",
          "height": 727
        },
        "id": "F06O8hljwRzs",
        "outputId": "4599f770-12c9-4499-c9ea-74b39bbca557"
      },
      "outputs": [
        {
          "output_type": "display_data",
          "data": {
            "text/plain": [
              "<Figure size 1200x800 with 1 Axes>"
            ],
            "image/png": "[encoded data removed]"
          },
          "metadata": {}
        }
      ],
      "source": [
        "#Visualizing after removing outliers\n",
        "\n",
        "def hist_V(col):\n",
        "    plt.figure(figsize=(12, 8))\n",
        "    sns.histplot(data[col], kde=True)\n",
        "    plt.xlabel(col)\n",
        "    plt.ylabel('Frequency')\n",
        "    plt.title(f'Histogram of {col}')\n",
        "    plt.show()\n",
        "\n",
        "hist_V('Customer_Age')"
      ]
    },
    {
      "cell_type": "markdown",
      "id": "6bba97a7",
      "metadata": {
        "id": "6bba97a7"
      },
      "source": [
        "####  3.EDUCATION - Customer's education level"
      ]
    },
    {
      "cell_type": "code",
      "execution_count": null,
      "id": "01b8cfa7",
      "metadata": {
        "id": "01b8cfa7"
      },
      "outputs": [],
      "source": [
        "#Converting Education Features into 'High','Middle' & 'Low'\n",
        "\n",
        "def education_level(education):\n",
        "    if education in ['Graduation','Phd','Master']:\n",
        "        return 'High'\n",
        "    elif education in ['Basic']:\n",
        "        return 'Middle'\n",
        "    else:\n",
        "        return 'Low'\n",
        "\n",
        "data['Education_Level'] = data['Education'].apply(education_level)\n",
        "\n",
        "#Replacing \"Education\" with \"Education_Level\"\n",
        "\n",
        "data = data.drop(columns=['Education'],axis = 1)"
      ]
    },
    {
      "cell_type": "code",
      "execution_count": null,
      "id": "0cc4c8c0",
      "metadata": {
        "colab": {
          "base_uri": "https://localhost:8080/",
          "height": 573
        },
        "id": "0cc4c8c0",
        "outputId": "8321f4bd-afa7-4275-9788-85076146ff1b"
      },
      "outputs": [
        {
          "output_type": "display_data",
          "data": {
            "text/plain": [
              "<Figure size 800x600 with 1 Axes>"
            ],
            "image/png": "[encoded data removed]"
          },
          "metadata": {}
        }
      ],
      "source": [
        "#Visualizing 'Education' Attribute:-\n",
        "\n",
        "education_counts = data['Education_Level'].value_counts()\n",
        "sns.set(style=\"whitegrid\")\n",
        "plt.figure(figsize=(8, 6))\n",
        "sns.barplot(x=education_counts.index, y=education_counts.values)\n",
        "plt.xlabel('Education Level')\n",
        "plt.ylabel('Count')\n",
        "plt.title('Distribution of Education Levels')\n",
        "plt.show()"
      ]
    },
    {
      "cell_type": "markdown",
      "id": "2fef418d",
      "metadata": {
        "id": "2fef418d"
      },
      "source": [
        "#### 4.Marital_Status - Customer's marital status"
      ]
    },
    {
      "cell_type": "code",
      "execution_count": null,
      "id": "be42cd73",
      "metadata": {
        "id": "be42cd73"
      },
      "outputs": [],
      "source": [
        "#Converting Marital_Status into 'Relationship' and 'Single'\n",
        "\n",
        "data['Marital_Status'] = data['Marital_Status'].replace(['Married', 'Together'],'Relationship')\n",
        "data['Marital_Status'] = data['Marital_Status'].replace(['Divorced', 'Widow', 'Alone', 'YOLO', 'Absurd'],'Single')"
      ]
    },
    {
      "cell_type": "code",
      "execution_count": null,
      "id": "723b0661",
      "metadata": {
        "colab": {
          "base_uri": "https://localhost:8080/",
          "height": 573
        },
        "id": "723b0661",
        "outputId": "fea085b4-3f3d-4f04-946f-1909b6b6fe5a"
      },
      "outputs": [
        {
          "output_type": "display_data",
          "data": {
            "text/plain": [
              "<Figure size 800x600 with 1 Axes>"
            ],
            "image/png": "[encoded data removed]"
          },
          "metadata": {}
        }
      ],
      "source": [
        "#Visualizing 'Marital_Status' Attribute:-\n",
        "\n",
        "marital_counts = data['Marital_Status'].value_counts()\n",
        "sns.set(style=\"whitegrid\")\n",
        "plt.figure(figsize=(8, 6))\n",
        "sns.barplot(x=marital_counts.index, y=marital_counts.values)\n",
        "plt.xlabel('Marital Status')\n",
        "plt.ylabel('Count')\n",
        "plt.title('Distribution of Marital Status')\n",
        "plt.show()"
      ]
    },
    {
      "cell_type": "markdown",
      "id": "d6247b4f",
      "metadata": {
        "id": "d6247b4f"
      },
      "source": [
        "#### 5.INCOME - Customer's yearly household income\n",
        "\n",
        " - Since there are 24 Null Values in Income we will repalce the missing values with \"Mean\" or \"Median\"\n"
      ]
    },
    {
      "cell_type": "code",
      "execution_count": null,
      "id": "aGgOwN1jtyTQ",
      "metadata": {
        "colab": {
          "base_uri": "https://localhost:8080/",
          "height": 474
        },
        "id": "aGgOwN1jtyTQ",
        "outputId": "665b8928-4b18-4834-831e-11c964c2c1e5"
      },
      "outputs": [
        {
          "output_type": "display_data",
          "data": {
            "text/plain": [
              "<Figure size 640x480 with 1 Axes>"
            ],
            "image/png": "[encoded data removed]"
          },
          "metadata": {}
        }
      ],
      "source": [
        "sns.distplot(data['Income'],color = \"pink\")\n",
        "plt.show()"
      ]
    },
    {
      "cell_type": "markdown",
      "id": "Zrj3Vt8rt9zj",
      "metadata": {
        "id": "Zrj3Vt8rt9zj"
      },
      "source": [
        "\n",
        " - Hence the data is left skewed we will replace the missing values with \"Median\"\n"
      ]
    },
    {
      "cell_type": "code",
      "execution_count": null,
      "id": "_dN08A8guDgP",
      "metadata": {
        "id": "_dN08A8guDgP"
      },
      "outputs": [],
      "source": [
        "#Fill the missing values with median values\n",
        "\n",
        "data['Income']=data['Income'].fillna(data['Income'].median())"
      ]
    },
    {
      "cell_type": "code",
      "execution_count": null,
      "id": "1b029637",
      "metadata": {
        "colab": {
          "base_uri": "https://localhost:8080/",
          "height": 573
        },
        "id": "1b029637",
        "outputId": "b56ad4f7-a467-49a7-cff2-c4426d5610bc"
      },
      "outputs": [
        {
          "output_type": "display_data",
          "data": {
            "text/plain": [
              "<Figure size 800x600 with 1 Axes>"
            ],
            "image/png": "[encoded data removed]"
          },
          "metadata": {}
        }
      ],
      "source": [
        "#Visualizing 'Income' Attribute:-\n",
        "\n",
        "sns.set(style=\"whitegrid\")\n",
        "plt.figure(figsize=(8, 6))\n",
        "sns.histplot(data['Income'], color=\"pink\", kde=True)\n",
        "plt.xlabel('Income')\n",
        "plt.ylabel('Frequency')\n",
        "plt.title('Distribution of Income')\n",
        "plt.show()"
      ]
    },
    {
      "cell_type": "code",
      "execution_count": null,
      "id": "5960c223",
      "metadata": {
        "colab": {
          "base_uri": "https://localhost:8080/",
          "height": 573
        },
        "id": "5960c223",
        "outputId": "9365fe76-4f7b-417e-bbdd-506aa8fc9045"
      },
      "outputs": [
        {
          "output_type": "display_data",
          "data": {
            "text/plain": [
              "<Figure size 1000x600 with 1 Axes>"
            ],
            "image/png": "[encoded data removed]"
          },
          "metadata": {}
        }
      ],
      "source": [
        "#Let's Check if there are any \"Outliers\" present in the \"Income\" Attribute\n",
        "\n",
        "\n",
        "sns.set(style=\"whitegrid\")\n",
        "plt.figure(figsize=(10, 6))\n",
        "sns.boxenplot(data[\"Income\"])\n",
        "plt.xlabel(\"Income\")\n",
        "plt.title(\"Boxen Plot - Income\")\n",
        "plt.show()"
      ]
    },
    {
      "cell_type": "markdown",
      "id": "d5270033",
      "metadata": {
        "id": "d5270033"
      },
      "source": [
        " - There is an Outlier Present in the \"Income\" Attribute where Customer Income is more the \"600000\""
      ]
    },
    {
      "cell_type": "code",
      "execution_count": null,
      "id": "114c4193",
      "metadata": {
        "id": "114c4193"
      },
      "outputs": [],
      "source": [
        "#Removing the Outliers from the \"Income\" Attribute\n",
        "\n",
        "data = data[data['Income'] < 600000]"
      ]
    },
    {
      "cell_type": "markdown",
      "id": "24d70931",
      "metadata": {
        "id": "24d70931"
      },
      "source": [
        "#### 6. \"Kidhome\" -  Number of children in customer's household & \"Teenhome\" - Number of teenagers in customer's household"
      ]
    },
    {
      "cell_type": "code",
      "execution_count": null,
      "id": "6dfe39db",
      "metadata": {
        "id": "6dfe39db"
      },
      "outputs": [],
      "source": [
        "#Creating \"Is_Parent\" Column by Grouping \"Kidhomme\" & \"Teenhome\" to indicate Parenthood Status\n",
        "\n",
        "data['Is_Parent'] = (data['Kidhome'] + data['Teenhome']>0).astype(int)"
      ]
    },
    {
      "cell_type": "code",
      "execution_count": null,
      "id": "807f4677",
      "metadata": {
        "colab": {
          "base_uri": "https://localhost:8080/",
          "height": 573
        },
        "id": "807f4677",
        "outputId": "d3dbd9eb-b0b8-4c44-90f5-96e058b41230"
      },
      "outputs": [
        {
          "output_type": "display_data",
          "data": {
            "text/plain": [
              "<Figure size 800x600 with 1 Axes>"
            ],
            "image/png": "[encoded data removed]"
          },
          "metadata": {}
        }
      ],
      "source": [
        "#Visualizing \"Kidhome\" & \"Teenhome\":-\n",
        "\n",
        "is_parent_counts = data['Is_Parent'].value_counts()\n",
        "sns.set(style=\"whitegrid\")\n",
        "plt.figure(figsize=(8, 6))\n",
        "sns.barplot(x=is_parent_counts.index, y=is_parent_counts.values)\n",
        "plt.xlabel('Is Parent')\n",
        "plt.ylabel('Count')\n",
        "plt.title('Distribution of Is Parent')\n",
        "plt.xticks([0, 1], ['Not Parent', 'Is Parent'])\n",
        "plt.show()"
      ]
    },
    {
      "cell_type": "code",
      "execution_count": null,
      "id": "f9fa7c40",
      "metadata": {
        "id": "f9fa7c40"
      },
      "outputs": [],
      "source": [
        "#Combining \"Kidhome\",\"Teenhome\"  into a single column \"kids\" to reduce the number of dimensions.\n",
        "\n",
        "data['Kids'] = data['Kidhome'] + data['Teenhome']"
      ]
    },
    {
      "cell_type": "code",
      "execution_count": null,
      "id": "402d5e32",
      "metadata": {
        "colab": {
          "base_uri": "https://localhost:8080/",
          "height": 573
        },
        "id": "402d5e32",
        "outputId": "b37f0792-a946-4ec2-bcec-36e17f37eab5"
      },
      "outputs": [
        {
          "output_type": "display_data",
          "data": {
            "text/plain": [
              "<Figure size 800x600 with 1 Axes>"
            ],
            "image/png": "[encoded data removed]"
          },
          "metadata": {}
        }
      ],
      "source": [
        "#Visualizing \"Kidhome\" & \"Teenhome\":-\n",
        "\n",
        "is_parent_counts = data['Kids'].value_counts()\n",
        "sns.set(style=\"whitegrid\")\n",
        "plt.figure(figsize=(8, 6))\n",
        "sns.barplot(x=is_parent_counts.index, y=is_parent_counts.values)\n",
        "plt.xlabel('Kids')\n",
        "plt.ylabel('Count')\n",
        "plt.title('Distribution of Kids')\n",
        "plt.show()"
      ]
    },
    {
      "cell_type": "code",
      "execution_count": null,
      "id": "2f4f63d9",
      "metadata": {
        "id": "2f4f63d9"
      },
      "outputs": [],
      "source": [
        "#Replacing Kidhome and Teenhome by \"Kids\" and \"Is_Parent\"\n",
        "\n",
        "data = data.drop(columns=['Kidhome','Teenhome'],axis = 1)"
      ]
    },
    {
      "cell_type": "markdown",
      "id": "45daab18",
      "metadata": {
        "id": "45daab18"
      },
      "source": [
        "#### 7.Dt_Customer -  Date of customer's enrollment with the company & Recency - Number of days since customer's last purchase"
      ]
    },
    {
      "cell_type": "code",
      "execution_count": null,
      "id": "f47484de",
      "metadata": {
        "colab": {
          "base_uri": "https://localhost:8080/",
          "height": 300
        },
        "id": "f47484de",
        "outputId": "59f5a5f5-abc3-485e-833e-fb93291c09bd"
      },
      "outputs": [
        {
          "output_type": "execute_result",
          "data": {
            "text/plain": [
              "  Marital_Status   Income  MntWines  MntFruits  MntMeatProducts  \\\n",
              "0         Single  58138.0       635         88              546   \n",
              "1         Single  46344.0        11          1                6   \n",
              "2   Relationship  71613.0       426         49              127   \n",
              "3   Relationship  26646.0        11          4               20   \n",
              "4   Relationship  58293.0       173         43              118   \n",
              "\n",
              "   MntFishProducts  MntSweetProducts  MntGoldProds  NumDealsPurchases  \\\n",
              "0              172                88            88                  3   \n",
              "1                2                 1             6                  2   \n",
              "2              111                21            42                  1   \n",
              "3               10                 3             5                  2   \n",
              "4               46                27            15                  5   \n",
              "\n",
              "   NumWebPurchases  ...  AcceptedCmp5  AcceptedCmp1  AcceptedCmp2  Complain  \\\n",
              "0                8  ...             0             0             0         0   \n",
              "1                1  ...             0             0             0         0   \n",
              "2                8  ...             0             0             0         0   \n",
              "3                2  ...             0             0             0         0   \n",
              "4                5  ...             0             0             0         0   \n",
              "\n",
              "   Response  Customer_Age  Education_Level  Is_Parent  Kids  Customer_For  \n",
              "0         1            66             High          0     0           663  \n",
              "1         0            69             High          1     2           113  \n",
              "2         0            58             High          0     0           312  \n",
              "3         0            39             High          1     1           139  \n",
              "4         0            42              Low          1     1           161  \n",
              "\n",
              "[5 rows x 25 columns]"
            ],
            "text/html": [
              "\n",
              "\n",
              "  <div id=\"df-8b03c4ec-56c9-4de4-960b-52473606ab21\">\n",
              "    <div class=\"colab-df-container\">\n",
              "      <div>\n",
              "<style scoped>\n",
              "    .dataframe tbody tr th:only-of-type {\n",
              "        vertical-align: middle;\n",
              "    }\n",
              "\n",
              "    .dataframe tbody tr th {\n",
              "        vertical-align: top;\n",
              "    }\n",
              "\n",
              "    .dataframe thead th {\n",
              "        text-align: right;\n",
              "    }\n",
              "</style>\n",
              "<table border=\"1\" class=\"dataframe\">\n",
              "  <thead>\n",
              "    <tr style=\"text-align: right;\">\n",
              "      <th></th>\n",
              "      <th>Marital_Status</th>\n",
              "      <th>Income</th>\n",
              "      <th>MntWines</th>\n",
              "      <th>MntFruits</th>\n",
              "      <th>MntMeatProducts</th>\n",
              "      <th>MntFishProducts</th>\n",
              "      <th>MntSweetProducts</th>\n",
              "      <th>MntGoldProds</th>\n",
              "      <th>NumDealsPurchases</th>\n",
              "      <th>NumWebPurchases</th>\n",
              "      <th>...</th>\n",
              "      <th>AcceptedCmp5</th>\n",
              "      <th>AcceptedCmp1</th>\n",
              "      <th>AcceptedCmp2</th>\n",
              "      <th>Complain</th>\n",
              "      <th>Response</th>\n",
              "      <th>Customer_Age</th>\n",
              "      <th>Education_Level</th>\n",
              "      <th>Is_Parent</th>\n",
              "      <th>Kids</th>\n",
              "      <th>Customer_For</th>\n",
              "    </tr>\n",
              "  </thead>\n",
              "  <tbody>\n",
              "    <tr>\n",
              "      <th>0</th>\n",
              "      <td>Single</td>\n",
              "      <td>58138.0</td>\n",
              "      <td>635</td>\n",
              "      <td>88</td>\n",
              "      <td>546</td>\n",
              "      <td>172</td>\n",
              "      <td>88</td>\n",
              "      <td>88</td>\n",
              "      <td>3</td>\n",
              "      <td>8</td>\n",
              "      <td>...</td>\n",
              "      <td>0</td>\n",
              "      <td>0</td>\n",
              "      <td>0</td>\n",
              "      <td>0</td>\n",
              "      <td>1</td>\n",
              "      <td>66</td>\n",
              "      <td>High</td>\n",
              "      <td>0</td>\n",
              "      <td>0</td>\n",
              "      <td>663</td>\n",
              "    </tr>\n",
              "    <tr>\n",
              "      <th>1</th>\n",
              "      <td>Single</td>\n",
              "      <td>46344.0</td>\n",
              "      <td>11</td>\n",
              "      <td>1</td>\n",
              "      <td>6</td>\n",
              "      <td>2</td>\n",
              "      <td>1</td>\n",
              "      <td>6</td>\n",
              "      <td>2</td>\n",
              "      <td>1</td>\n",
              "      <td>...</td>\n",
              "      <td>0</td>\n",
              "      <td>0</td>\n",
              "      <td>0</td>\n",
              "      <td>0</td>\n",
              "      <td>0</td>\n",
              "      <td>69</td>\n",
              "      <td>High</td>\n",
              "      <td>1</td>\n",
              "      <td>2</td>\n",
              "      <td>113</td>\n",
              "    </tr>\n",
              "    <tr>\n",
              "      <th>2</th>\n",
              "      <td>Relationship</td>\n",
              "      <td>71613.0</td>\n",
              "      <td>426</td>\n",
              "      <td>49</td>\n",
              "      <td>127</td>\n",
              "      <td>111</td>\n",
              "      <td>21</td>\n",
              "      <td>42</td>\n",
              "      <td>1</td>\n",
              "      <td>8</td>\n",
              "      <td>...</td>\n",
              "      <td>0</td>\n",
              "      <td>0</td>\n",
              "      <td>0</td>\n",
              "      <td>0</td>\n",
              "      <td>0</td>\n",
              "      <td>58</td>\n",
              "      <td>High</td>\n",
              "      <td>0</td>\n",
              "      <td>0</td>\n",
              "      <td>312</td>\n",
              "    </tr>\n",
              "    <tr>\n",
              "      <th>3</th>\n",
              "      <td>Relationship</td>\n",
              "      <td>26646.0</td>\n",
              "      <td>11</td>\n",
              "      <td>4</td>\n",
              "      <td>20</td>\n",
              "      <td>10</td>\n",
              "      <td>3</td>\n",
              "      <td>5</td>\n",
              "      <td>2</td>\n",
              "      <td>2</td>\n",
              "      <td>...</td>\n",
              "      <td>0</td>\n",
              "      <td>0</td>\n",
              "      <td>0</td>\n",
              "      <td>0</td>\n",
              "      <td>0</td>\n",
              "      <td>39</td>\n",
              "      <td>High</td>\n",
              "      <td>1</td>\n",
              "      <td>1</td>\n",
              "      <td>139</td>\n",
              "    </tr>\n",
              "    <tr>\n",
              "      <th>4</th>\n",
              "      <td>Relationship</td>\n",
              "      <td>58293.0</td>\n",
              "      <td>173</td>\n",
              "      <td>43</td>\n",
              "      <td>118</td>\n",
              "      <td>46</td>\n",
              "      <td>27</td>\n",
              "      <td>15</td>\n",
              "      <td>5</td>\n",
              "      <td>5</td>\n",
              "      <td>...</td>\n",
              "      <td>0</td>\n",
              "      <td>0</td>\n",
              "      <td>0</td>\n",
              "      <td>0</td>\n",
              "      <td>0</td>\n",
              "      <td>42</td>\n",
              "      <td>Low</td>\n",
              "      <td>1</td>\n",
              "      <td>1</td>\n",
              "      <td>161</td>\n",
              "    </tr>\n",
              "  </tbody>\n",
              "</table>\n",
              "<p>5 rows × 25 columns</p>\n",
              "</div>\n",
              "      <button class=\"colab-df-convert\" onclick=\"convertToInteractive('df-8b03c4ec-56c9-4de4-960b-52473606ab21')\"\n",
              "              title=\"Convert this dataframe to an interactive table.\"\n",
              "              style=\"display:none;\">\n",
              "\n",
              "  <svg xmlns=\"http://www.w3.org/2000/svg\" height=\"24px\"viewBox=\"0 0 24 24\"\n",
              "       width=\"24px\">\n",
              "    <path d=\"M0 0h24v24H0V0z\" fill=\"none\"/>\n",
              "    <path d=\"M18.56 5.44l.94 2.06.94-2.06 2.06-.94-2.06-.94-.94-2.06-.94 2.06-2.06.94zm-11 1L8.5 8.5l.94-2.06 2.06-.94-2.06-.94L8.5 2.5l-.94 2.06-2.06.94zm10 10l.94 2.06.94-2.06 2.06-.94-2.06-.94-.94-2.06-.94 2.06-2.06.94z\"/><path d=\"M17.41 7.96l-1.37-1.37c-.4-.4-.92-.59-1.43-.59-.52 0-1.04.2-1.43.59L10.3 9.45l-7.72 7.72c-.78.78-.78 2.05 0 2.83L4 21.41c.39.39.9.59 1.41.59.51 0 1.02-.2 1.41-.59l7.78-7.78 2.81-2.81c.8-.78.8-2.07 0-2.86zM5.41 20L4 18.59l7.72-7.72 1.47 1.35L5.41 20z\"/>\n",
              "  </svg>\n",
              "      </button>\n",
              "\n",
              "\n",
              "\n",
              "    <div id=\"df-8e56e4c8-8a59-43b6-b708-e920487a794a\">\n",
              "      <button class=\"colab-df-quickchart\" onclick=\"quickchart('df-8e56e4c8-8a59-43b6-b708-e920487a794a')\"\n",
              "              title=\"Suggest charts.\"\n",
              "              style=\"display:none;\">\n",
              "\n",
              "<svg xmlns=\"http://www.w3.org/2000/svg\" height=\"24px\"viewBox=\"0 0 24 24\"\n",
              "     width=\"24px\">\n",
              "    <g>\n",
              "        <path d=\"M19 3H5c-1.1 0-2 .9-2 2v14c0 1.1.9 2 2 2h14c1.1 0 2-.9 2-2V5c0-1.1-.9-2-2-2zM9 17H7v-7h2v7zm4 0h-2V7h2v10zm4 0h-2v-4h2v4z\"/>\n",
              "    </g>\n",
              "</svg>\n",
              "      </button>\n",
              "    </div>\n",
              "\n",
              "<style>\n",
              "  .colab-df-quickchart {\n",
              "    background-color: #E8F0FE;\n",
              "    border: none;\n",
              "    border-radius: 50%;\n",
              "    cursor: pointer;\n",
              "    display: none;\n",
              "    fill: #1967D2;\n",
              "    height: 32px;\n",
              "    padding: 0 0 0 0;\n",
              "    width: 32px;\n",
              "  }\n",
              "\n",
              "  .colab-df-quickchart:hover {\n",
              "    background-color: #E2EBFA;\n",
              "    box-shadow: 0px 1px 2px rgba(60, 64, 67, 0.3), 0px 1px 3px 1px rgba(60, 64, 67, 0.15);\n",
              "    fill: #174EA6;\n",
              "  }\n",
              "\n",
              "  [theme=dark] .colab-df-quickchart {\n",
              "    background-color: #3B4455;\n",
              "    fill: #D2E3FC;\n",
              "  }\n",
              "\n",
              "  [theme=dark] .colab-df-quickchart:hover {\n",
              "    background-color: #434B5C;\n",
              "    box-shadow: 0px 1px 3px 1px rgba(0, 0, 0, 0.15);\n",
              "    filter: drop-shadow(0px 1px 2px rgba(0, 0, 0, 0.3));\n",
              "    fill: #FFFFFF;\n",
              "  }\n",
              "</style>\n",
              "\n",
              "    <script>\n",
              "      async function quickchart(key) {\n",
              "        const containerElement = document.querySelector('#' + key);\n",
              "        const charts = await google.colab.kernel.invokeFunction(\n",
              "            'suggestCharts', [key], {});\n",
              "      }\n",
              "    </script>\n",
              "\n",
              "      <script>\n",
              "\n",
              "function displayQuickchartButton(domScope) {\n",
              "  let quickchartButtonEl =\n",
              "    domScope.querySelector('#df-8e56e4c8-8a59-43b6-b708-e920487a794a button.colab-df-quickchart');\n",
              "  quickchartButtonEl.style.display =\n",
              "    google.colab.kernel.accessAllowed ? 'block' : 'none';\n",
              "}\n",
              "\n",
              "        displayQuickchartButton(document);\n",
              "      </script>\n",
              "      <style>\n",
              "    .colab-df-container {\n",
              "      display:flex;\n",
              "      flex-wrap:wrap;\n",
              "      gap: 12px;\n",
              "    }\n",
              "\n",
              "    .colab-df-convert {\n",
              "      background-color: #E8F0FE;\n",
              "      border: none;\n",
              "      border-radius: 50%;\n",
              "      cursor: pointer;\n",
              "      display: none;\n",
              "      fill: #1967D2;\n",
              "      height: 32px;\n",
              "      padding: 0 0 0 0;\n",
              "      width: 32px;\n",
              "    }\n",
              "\n",
              "    .colab-df-convert:hover {\n",
              "      background-color: #E2EBFA;\n",
              "      box-shadow: 0px 1px 2px rgba(60, 64, 67, 0.3), 0px 1px 3px 1px rgba(60, 64, 67, 0.15);\n",
              "      fill: #174EA6;\n",
              "    }\n",
              "\n",
              "    [theme=dark] .colab-df-convert {\n",
              "      background-color: #3B4455;\n",
              "      fill: #D2E3FC;\n",
              "    }\n",
              "\n",
              "    [theme=dark] .colab-df-convert:hover {\n",
              "      background-color: #434B5C;\n",
              "      box-shadow: 0px 1px 3px 1px rgba(0, 0, 0, 0.15);\n",
              "      filter: drop-shadow(0px 1px 2px rgba(0, 0, 0, 0.3));\n",
              "      fill: #FFFFFF;\n",
              "    }\n",
              "  </style>\n",
              "\n",
              "      <script>\n",
              "        const buttonEl =\n",
              "          document.querySelector('#df-8b03c4ec-56c9-4de4-960b-52473606ab21 button.colab-df-convert');\n",
              "        buttonEl.style.display =\n",
              "          google.colab.kernel.accessAllowed ? 'block' : 'none';\n",
              "\n",
              "        async function convertToInteractive(key) {\n",
              "          const element = document.querySelector('#df-8b03c4ec-56c9-4de4-960b-52473606ab21');\n",
              "          const dataTable =\n",
              "            await google.colab.kernel.invokeFunction('convertToInteractive',\n",
              "                                                     [key], {});\n",
              "          if (!dataTable) return;\n",
              "\n",
              "          const docLinkHtml = 'Like what you see? Visit the ' +\n",
              "            '<a target=\"_blank\" href=https://colab.research.google.com/notebooks/data_table.ipynb>data table notebook</a>'\n",
              "            + ' to learn more about interactive tables.';\n",
              "          element.innerHTML = '';\n",
              "          dataTable['output_type'] = 'display_data';\n",
              "          await google.colab.output.renderOutput(dataTable, element);\n",
              "          const docLink = document.createElement('div');\n",
              "          docLink.innerHTML = docLinkHtml;\n",
              "          element.appendChild(docLink);\n",
              "        }\n",
              "      </script>\n",
              "    </div>\n",
              "  </div>\n"
            ]
          },
          "metadata": {},
          "execution_count": 36
        }
      ],
      "source": [
        "#Converting Dt_Customer to \"Customer_For\"\n",
        "\n",
        "data[\"Dt_Customer\"] = pd.to_datetime(data[\"Dt_Customer\"])\n",
        "dates = []\n",
        "for i in data[\"Dt_Customer\"]:\n",
        "    i = i.date()\n",
        "    dates.append(i)\n",
        "\n",
        "#Created a feature \"Customer_For\"\n",
        "\n",
        "days = []\n",
        "d1 = max(dates) #Taking it to be the newest customer\n",
        "for i in dates:\n",
        "    delta = d1 - i\n",
        "    days.append(delta)\n",
        "data[\"Customer_For\"] = days\n",
        "data['Customer_For'] = data['Customer_For'].apply(lambda x:x.days)\n",
        "\n",
        "#Dropping \"Dt_Customer\" and \"Recency\"\n",
        "\n",
        "data = data.drop(columns=['Dt_Customer','Recency'],axis = 1)\n",
        "data.head()"
      ]
    },
    {
      "cell_type": "markdown",
      "id": "3b32747c",
      "metadata": {
        "id": "3b32747c"
      },
      "source": [
        "OBSERVATIONS ON PEOPLE ATTRIBUTE:-\n",
        "\n",
        "1. We have dropped \"id\" as it has only unique values.\n",
        "2. We are converted \"Year_Birth\" attribute into \"Customer_Age\". And also, we have removed outliers in this column.\n",
        "3. We have converted \"Education\" attribute into \"Education_Levl\".\n",
        "4. We have converted \"Martial_Status\" categories into \"Single\" and \"Relationship\".\n",
        "5. We have removed outliers present in \"Income\" column.\n",
        "6. With \"Kidhome\" and \"Teenhome\" we have created 2 columns i.e \"Kids\" & \"Is_Parent\".\n",
        "7. With \"Dt_Customer\" and \"Recency\" we created a new column as \"Customer_for\"."
      ]
    },
    {
      "cell_type": "markdown",
      "id": "7d59777b",
      "metadata": {
        "id": "7d59777b"
      },
      "source": [
        "### PERFORMING ANALYSIS ON PRODUCT ATTRIBUTES"
      ]
    },
    {
      "cell_type": "code",
      "execution_count": null,
      "id": "646e0ebb",
      "metadata": {
        "colab": {
          "base_uri": "https://localhost:8080/",
          "height": 667
        },
        "id": "646e0ebb",
        "outputId": "dc8cb54a-9a02-473a-860e-ad62adffce0d"
      },
      "outputs": [
        {
          "output_type": "display_data",
          "data": {
            "text/plain": [
              "<Figure size 1200x700 with 1 Axes>"
            ],
            "image/png": "[encoded data removed]"
          },
          "metadata": {}
        }
      ],
      "source": [
        "# Creating \"Average_Spent\" Column\n",
        "data['Average_Spent'] = (data['MntWines'] + data['MntFruits'] + data['MntMeatProducts'] + data['MntFishProducts'] + data['MntSweetProducts'] + data['MntGoldProds'])/6\n",
        "\n",
        "\n",
        "# Calculate the average spent on expenses for each category\n",
        "expenses_avg = data[['MntWines', 'MntFruits', 'MntMeatProducts', 'MntFishProducts', 'MntSweetProducts', 'MntGoldProds']].mean()\n",
        "\n",
        "# Set the plot style\n",
        "sns.set(style=\"whitegrid\")\n",
        "\n",
        "# Create the bar plot\n",
        "plt.figure(figsize=(12, 7), facecolor='lightyellow')\n",
        "ax = sns.barplot(x=expenses_avg.values, y=expenses_avg.index, palette='Blues_r')\n",
        "plt.title('Average Spent on Expenses', pad=15, fontsize=18, fontweight='semibold')\n",
        "plt.xlabel('Average Spent')\n",
        "plt.ylabel('Expense Category')\n",
        "\n",
        "# Add value annotations to the bars\n",
        "rects = ax.patches\n",
        "for rect, value in zip(rects, expenses_avg.values):\n",
        "    x_value = rect.get_width()\n",
        "    y_value = rect.get_y() + rect.get_height() / 2\n",
        "    plt.annotate('{:.2f}'.format(value), (x_value, y_value), xytext=(-49, 0),\n",
        "                 textcoords='offset points', va='center', ha='left',\n",
        "                 color='white', fontsize=11, fontweight='semibold')\n",
        "\n",
        "plt.show()\n"
      ]
    },
    {
      "cell_type": "code",
      "execution_count": null,
      "id": "f7f437dc",
      "metadata": {
        "colab": {
          "base_uri": "https://localhost:8080/",
          "height": 667
        },
        "id": "f7f437dc",
        "outputId": "c37fbe49-e831-4922-9c8b-31d2b120bafc"
      },
      "outputs": [
        {
          "output_type": "display_data",
          "data": {
            "text/plain": [
              "<Figure size 1200x700 with 1 Axes>"
            ],
            "image/png": "[encoded data removed]"
          },
          "metadata": {}
        }
      ],
      "source": [
        "# Calculate the sum of expenses for each category\n",
        "expenses_sum = data[['MntWines', 'MntFruits', 'MntMeatProducts', 'MntFishProducts', 'MntSweetProducts', 'MntGoldProds']].sum().sort_values(ascending=False)\n",
        "\n",
        "# Set the plot style\n",
        "sns.set(style=\"whitegrid\")\n",
        "\n",
        "# Create the bar plot\n",
        "plt.figure(figsize=(12, 7), facecolor='lightyellow')\n",
        "ax = sns.barplot(y=expenses_sum.index, x=expenses_sum, orient='h', palette='Blues_r')\n",
        "plt.title('Expenses', pad=15, fontsize=18, fontweight='semibold')\n",
        "plt.xlabel('Total Expense')\n",
        "plt.ylabel('Expense Category')\n",
        "\n",
        "# Add value annotations to the bars\n",
        "rects = ax.patches\n",
        "for rect in rects:\n",
        "    x_value = rect.get_width()\n",
        "    y_value = rect.get_y() + rect.get_height() / 2\n",
        "    plt.annotate('{}'.format(x_value), (x_value, y_value), xytext=(-49, 0),\n",
        "                 textcoords='offset points', va='center', ha='left',\n",
        "                 color='white', fontsize=11, fontweight='semibold')\n",
        "\n",
        "plt.show()\n",
        "\n",
        "#Dropping grouped columns\n",
        "\n",
        "data = data.drop(columns=['MntWines', 'MntFruits', 'MntMeatProducts', 'MntFishProducts', 'MntSweetProducts', 'MntGoldProds'],axis = 1)\n"
      ]
    },
    {
      "cell_type": "markdown",
      "id": "9bf713a2",
      "metadata": {
        "id": "9bf713a2"
      },
      "source": [
        " - The highest amount spent by the customers on \"MntWines\""
      ]
    },
    {
      "cell_type": "markdown",
      "id": "b5d135c6",
      "metadata": {
        "id": "b5d135c6"
      },
      "source": [
        "### PERFORMING ANALYSIS ON PROMOTION ATTRIBUTES"
      ]
    },
    {
      "cell_type": "code",
      "execution_count": null,
      "id": "ed23f7ca",
      "metadata": {
        "colab": {
          "base_uri": "https://localhost:8080/",
          "height": 667
        },
        "id": "ed23f7ca",
        "outputId": "fa2c211b-37fc-4160-8dcf-73599e6cc018"
      },
      "outputs": [
        {
          "output_type": "display_data",
          "data": {
            "text/plain": [
              "<Figure size 1200x700 with 1 Axes>"
            ],
            "image/png": "[encoded data removed]"
          },
          "metadata": {}
        }
      ],
      "source": [
        "# Combine all the Promotions into a single column\n",
        "data['TotalAcceptedCmp'] = data['AcceptedCmp1'] + data['AcceptedCmp2'] + data['AcceptedCmp3'] + data['AcceptedCmp4'] + data['AcceptedCmp5']\n",
        "\n",
        "# Set the plot style\n",
        "sns.set(style=\"whitegrid\")\n",
        "\n",
        "# Calculate the frequency of each category in the TotalAcceptedCmp variable\n",
        "total_accepted_cmp_counts = data['TotalAcceptedCmp'].value_counts()\n",
        "\n",
        "# Create the bar plot\n",
        "plt.figure(figsize=(12, 7), facecolor='lightyellow')\n",
        "ax = sns.barplot(x=total_accepted_cmp_counts.index, y=total_accepted_cmp_counts, palette='Blues_r')\n",
        "plt.title('Frequency of Each Category in the TotalAcceptedCmp Variable', pad=15, fontsize=18, fontweight='semibold')\n",
        "plt.xlabel('Category')\n",
        "plt.ylabel('Frequency')\n",
        "\n",
        "# Add value annotations to the bars\n",
        "rects = ax.patches\n",
        "for rect in rects:\n",
        "    x_value = rect.get_x() + rect.get_width() / 2\n",
        "    y_value = rect.get_height()\n",
        "    plt.annotate('{}'.format(y_value), (x_value, y_value), xytext=(0, 5),\n",
        "                 textcoords='offset points', va='bottom', ha='center',\n",
        "                 color='black', fontsize=11, fontweight='semibold')\n",
        "\n",
        "plt.show()\n",
        "\n",
        "# Remove the individual AcceptedCmp columns from the dataset\n",
        "data = data.drop(columns=['AcceptedCmp1', 'AcceptedCmp2', 'AcceptedCmp3', 'AcceptedCmp4', 'AcceptedCmp5'], axis=1)\n"
      ]
    },
    {
      "cell_type": "markdown",
      "id": "4f643eff",
      "metadata": {
        "id": "4f643eff"
      },
      "source": [
        " - 79.33% of Customers accepted the offer in the campaign are \"0\".\n",
        " - 14.50% of Customers accepted the offer in the campaign are \"1\".\n",
        " - 3.70% of Customers accepted the offer in the campaign are \"2\".\n",
        " - 1.96% of Customers accepted the offer in the campaign are \"3\".\n",
        " - 0.49% of Customers accepted the offer in the campaign are \"4\"."
      ]
    },
    {
      "cell_type": "code",
      "execution_count": null,
      "id": "5237b476",
      "metadata": {
        "colab": {
          "base_uri": "https://localhost:8080/",
          "height": 732
        },
        "id": "5237b476",
        "outputId": "83a8c8de-4435-49db-cc83-89733316cd7c"
      },
      "outputs": [
        {
          "output_type": "display_data",
          "data": {
            "text/plain": [
              "<Figure size 1200x800 with 1 Axes>"
            ],
            "image/png": "[encoded data removed]"
          },
          "metadata": {}
        }
      ],
      "source": [
        "#NumDealsPurchases\n",
        "\n",
        "def bar_plot(col):\n",
        "    plt.figure(figsize=(12, 8))\n",
        "    count_data = data[col].value_counts().reset_index()\n",
        "    count_data.columns = [col, 'Count']\n",
        "    sns.barplot(x=col, y='Count', data=count_data, color='blue')\n",
        "    plt.title('Number of Purchases with Discount', fontsize=14)\n",
        "    plt.xlabel('Discounts')\n",
        "    plt.ylabel('Count')\n",
        "\n",
        "    # Rotate x-axis labels if needed\n",
        "    plt.xticks(rotation=90)\n",
        "\n",
        "    plt.show()\n",
        "\n",
        "bar_plot('NumDealsPurchases')"
      ]
    },
    {
      "cell_type": "markdown",
      "id": "75eee801",
      "metadata": {
        "id": "75eee801"
      },
      "source": [
        "### PERFORMING ANALYSIS ON PLACE ATTRIBUTES"
      ]
    },
    {
      "cell_type": "code",
      "execution_count": null,
      "id": "93ab2442",
      "metadata": {
        "id": "93ab2442"
      },
      "outputs": [],
      "source": [
        "#Visualizing the \"Place\" Attribute\n",
        "\n",
        "# Set the overall figure size\n",
        "plt.figure(figsize=(12, 8))\n",
        "\n",
        "# Create subplots for each variable\n",
        "plt.subplot(2, 2, 1)\n",
        "sns.histplot(data['NumWebPurchases'], kde=True, color='skyblue')\n",
        "plt.title('Number of Web Purchases', fontsize=14)\n",
        "plt.xlabel('NumWebPurchases')\n",
        "plt.ylabel('Count')\n",
        "\n",
        "plt.subplot(2, 2, 2)\n",
        "sns.histplot(data['NumCatalogPurchases'], kde=True, color='lightgreen')\n",
        "plt.title('Number of Catalog Purchases', fontsize=14)\n",
        "plt.xlabel('NumCatalogPurchases')\n",
        "plt.ylabel('Count')\n",
        "\n",
        "plt.subplot(2, 2, 3)\n",
        "sns.histplot(data['NumStorePurchases'], kde=True, color='salmon')\n",
        "plt.title('Number of Store Purchases', fontsize=14)\n",
        "plt.xlabel('NumStorePurchases')\n",
        "plt.ylabel('Count')\n",
        "\n",
        "plt.subplot(2, 2, 4)\n",
        "sns.histplot(data['NumWebVisitsMonth'], kde=True, color='purple')\n",
        "plt.title('Number of Web Visits (Last Month)', fontsize=14)\n",
        "plt.xlabel('NumWebVisitsMonth')\n",
        "plt.ylabel('Count')\n",
        "\n",
        "\n",
        "# Adjust the spacing between subplots\n",
        "plt.tight_layout()\n",
        "\n",
        "# Show the plot\n",
        "plt.show()\n"
      ]
    },
    {
      "cell_type": "code",
      "execution_count": null,
      "id": "5436f45f",
      "metadata": {
        "id": "5436f45f"
      },
      "outputs": [],
      "source": [
        "#Checking the customer average web vistis\n",
        "\n",
        "data['avg_web_visits'] = (data['NumWebPurchases'] + data['NumWebVisitsMonth']) / 2\n"
      ]
    },
    {
      "cell_type": "code",
      "execution_count": null,
      "id": "c18ab26c",
      "metadata": {
        "id": "c18ab26c"
      },
      "outputs": [],
      "source": [
        "#Grouping all Purchases to \"NumtotalPurchases\"\n",
        "data['NumTotalPurchases'] = data['NumWebPurchases'] + data['NumCatalogPurchases'] + data['NumStorePurchases']\n",
        "\n",
        "plt.figure(figsize=(10, 6))\n",
        "sns.barplot(x=data['NumTotalPurchases'].value_counts().index, y=data['NumTotalPurchases'].value_counts().values, color='skyblue')\n",
        "plt.title('Total Number of Purchases', fontsize=14)\n",
        "plt.xlabel('Number of Purchases')\n",
        "plt.ylabel('Count')\n",
        "\n",
        "# Annotate the count values on top of each bar\n",
        "ax = plt.gca()\n",
        "for p in ax.patches:\n",
        "    ax.annotate(format(p.get_height(), '.0f'), (p.get_x() + p.get_width() / 2., p.get_height()),\n",
        "                ha='center', va='center', xytext=(0, 10), textcoords='offset points', fontsize=9, color='black')\n",
        "\n",
        "plt.xticks(rotation=90)\n",
        "plt.tight_layout()\n",
        "plt.show()\n"
      ]
    },
    {
      "cell_type": "code",
      "execution_count": null,
      "id": "fe81dcca",
      "metadata": {
        "id": "fe81dcca"
      },
      "outputs": [],
      "source": [
        "plt.figure(figsize=(12,7), facecolor='lightyellow')\n",
        "ax = data[['NumWebPurchases', 'NumCatalogPurchases', 'NumStorePurchases']].sum().sort_values(ascending=True).plot(kind='barh')\n",
        "plt.title('Purchases', pad=15, fontsize=18, fontweight='semibold')\n",
        "rects = ax.patches\n",
        "for rect in rects:x_value = rect.get_width()\n",
        "y_value = rect.get_y() + rect.get_height() / 2\n",
        "plt.annotate('{}'.format(x_value), (x_value, y_value), xytext=(-50, 0),\n",
        "textcoords='offset points', va='center', ha='left', color = 'white', fontsize=14, fontweight='semibold')\n",
        "\n",
        "#Dropping grouped Columns\n",
        "\n",
        "data = data.drop(columns=['NumWebPurchases','NumCatalogPurchases','NumStorePurchases','NumWebVisitsMonth'],axis = 1)\n"
      ]
    },
    {
      "cell_type": "markdown",
      "id": "2cc23c34",
      "metadata": {
        "id": "2cc23c34"
      },
      "source": [
        "### CORRELATION"
      ]
    },
    {
      "cell_type": "code",
      "execution_count": null,
      "id": "c4ca0864",
      "metadata": {
        "id": "c4ca0864"
      },
      "outputs": [],
      "source": [
        "data.corr()"
      ]
    },
    {
      "cell_type": "markdown",
      "id": "30ceb704",
      "metadata": {
        "id": "30ceb704"
      },
      "source": [
        "### HEAT MAP"
      ]
    },
    {
      "cell_type": "code",
      "execution_count": null,
      "id": "cc8a3e8c",
      "metadata": {
        "id": "cc8a3e8c",
        "scrolled": true
      },
      "outputs": [],
      "source": [
        "fig, ax = plt.subplots(figsize=(12, 10))\n",
        "\n",
        "# Compute the correlation matrix\n",
        "corr_matrix = data.corr()\n",
        "\n",
        "# Create the heatmap\n",
        "sns.heatmap(corr_matrix, annot=True, fmt=\".2f\", cmap=\"viridis\", cbar=False, linewidths=0.5, linecolor='black')\n",
        "\n",
        "# Set the title and labels\n",
        "plt.title('Correlation Heatmap', fontsize=16)\n",
        "plt.xlabel('Variables')\n",
        "plt.ylabel('Variables')\n",
        "\n",
        "plt.show()"
      ]
    },
    {
      "cell_type": "markdown",
      "id": "3cc3b984",
      "metadata": {
        "id": "3cc3b984"
      },
      "source": [
        "## BIVARIATE ANALYSIS WITH DATA VISUALIZATION"
      ]
    },
    {
      "cell_type": "markdown",
      "id": "e437556d",
      "metadata": {
        "id": "e437556d"
      },
      "source": [
        "#### 1.Income VS Average_Spent"
      ]
    },
    {
      "cell_type": "code",
      "execution_count": null,
      "id": "c2539a0d",
      "metadata": {
        "id": "c2539a0d"
      },
      "outputs": [],
      "source": [
        "# Bivariate analysis scatter plot\n",
        "\n",
        "plt.figure(figsize=(8, 6))\n",
        "sns.scatterplot(x=data['Income'], y=data['Average_Spent'], color='blue')\n",
        "plt.title('Bivariate Analysis: Income vs Average Spent', fontsize=14)\n",
        "plt.xlabel('Income')\n",
        "plt.ylabel('Average Spent')\n",
        "plt.show()"
      ]
    },
    {
      "cell_type": "markdown",
      "id": "8f2202c9",
      "metadata": {
        "id": "8f2202c9"
      },
      "source": [
        "#### 2.Income VS Is_Parent"
      ]
    },
    {
      "cell_type": "code",
      "execution_count": null,
      "id": "5b0ae755",
      "metadata": {
        "id": "5b0ae755"
      },
      "outputs": [],
      "source": [
        "# Bivariate analysis bar plot\n",
        "\n",
        "plt.figure(figsize=(8, 6))\n",
        "sns.barplot(x=data['Is_Parent'], y=data['Income'], color='Blue')\n",
        "plt.title('Bivariate Analysis: Income vs IsParent', fontsize=14)\n",
        "plt.xlabel('Is Parent')\n",
        "plt.ylabel('Income')\n",
        "plt.show()"
      ]
    },
    {
      "cell_type": "markdown",
      "id": "105124cd",
      "metadata": {
        "id": "105124cd"
      },
      "source": [
        "#### 3. Income VS NumTotalPurchases"
      ]
    },
    {
      "cell_type": "code",
      "execution_count": null,
      "id": "617fbe31",
      "metadata": {
        "id": "617fbe31"
      },
      "outputs": [],
      "source": [
        "# Bivariate analysis scatter plot\n",
        "\n",
        "plt.figure(figsize=(8, 6))\n",
        "sns.scatterplot(x=data['Income'], y=data['NumTotalPurchases'], color='blue')\n",
        "plt.title('Bivariate Analysis: Income vs NumTotalPurchases', fontsize=14)\n",
        "plt.xlabel('Income')\n",
        "plt.ylabel('NumTotalPurchases')\n",
        "plt.show()"
      ]
    },
    {
      "cell_type": "markdown",
      "id": "eadbbe82",
      "metadata": {
        "id": "eadbbe82"
      },
      "source": [
        "#### 4.NumDealsPurchases vs Is_Parent"
      ]
    },
    {
      "cell_type": "code",
      "execution_count": null,
      "id": "ca37d58a",
      "metadata": {
        "id": "ca37d58a"
      },
      "outputs": [],
      "source": [
        "# Bivariate analysis bar plot\n",
        "\n",
        "plt.figure(figsize=(8, 6))\n",
        "sns.barplot(x=data['Is_Parent'], y=data['NumDealsPurchases'], color='blue')\n",
        "plt.title('Bivariate Analysis: NumDealsPurchases vs IsParent', fontsize=14)\n",
        "plt.xlabel('Is Parent')\n",
        "plt.ylabel('NumDealsPurchases')\n",
        "plt.show()\n"
      ]
    },
    {
      "cell_type": "markdown",
      "id": "af3b4190",
      "metadata": {
        "id": "af3b4190"
      },
      "source": [
        "#### 5.NumDealsPurchases vs avg_web_visits"
      ]
    },
    {
      "cell_type": "code",
      "execution_count": null,
      "id": "2abefc3d",
      "metadata": {
        "id": "2abefc3d"
      },
      "outputs": [],
      "source": [
        "# Bivariate analysis line plot\n",
        "plt.figure(figsize=(8, 6))\n",
        "sns.lineplot(x=data['NumDealsPurchases'], y=data['avg_web_visits'], color='blue')\n",
        "plt.title('Bivariate Analysis: NumDealsPurchases vs avg_web_visits', fontsize=14)\n",
        "plt.xlabel('NumDealsPurchases')\n",
        "plt.ylabel('Average Web Visits')\n",
        "plt.show()"
      ]
    },
    {
      "cell_type": "markdown",
      "id": "1b2ffbc9",
      "metadata": {
        "id": "1b2ffbc9"
      },
      "source": [
        "#### 6.Response vs TotalAcceptedCmp"
      ]
    },
    {
      "cell_type": "code",
      "execution_count": null,
      "id": "c6813541",
      "metadata": {
        "id": "c6813541"
      },
      "outputs": [],
      "source": [
        "# Bivariate analysis bar plot\n",
        "\n",
        "plt.figure(figsize=(8, 6))\n",
        "sns.barplot(x=data['TotalAcceptedCmp'], y=data['Response'], color='blue')\n",
        "plt.title('Bivariate Analysis: Response vs TotalAcceptedCmp', fontsize=14)\n",
        "plt.xlabel('Total Accepted Campaigns')\n",
        "plt.ylabel('Response')\n",
        "plt.show()"
      ]
    },
    {
      "cell_type": "markdown",
      "id": "7e7624f1",
      "metadata": {
        "id": "7e7624f1"
      },
      "source": [
        "#### 7.Is_Parent vs Average_Spent"
      ]
    },
    {
      "cell_type": "code",
      "execution_count": null,
      "id": "5f5ad6d6",
      "metadata": {
        "id": "5f5ad6d6"
      },
      "outputs": [],
      "source": [
        "# Bivariate analysis bar plot\n",
        "plt.figure(figsize=(8, 6))\n",
        "sns.barplot(x=data['Is_Parent'], y=data['Average_Spent'], color='blue')\n",
        "plt.title('Bivariate Analysis: Is_Parent vs Avg_Spent', fontsize=14)\n",
        "plt.xlabel('Is Parent')\n",
        "plt.ylabel('Average Spent')\n",
        "plt.show()"
      ]
    },
    {
      "cell_type": "markdown",
      "id": "94b72119",
      "metadata": {
        "id": "94b72119"
      },
      "source": [
        "#### 8.Average_Spent vs TotalAcceptedCmp"
      ]
    },
    {
      "cell_type": "code",
      "execution_count": null,
      "id": "66da37d1",
      "metadata": {
        "id": "66da37d1"
      },
      "outputs": [],
      "source": [
        "# Bivariate analysis bar plot\n",
        "plt.figure(figsize=(10, 6))\n",
        "sns.barplot(x=data['TotalAcceptedCmp'], y=data['Average_Spent'], color='blue')\n",
        "plt.title('Bivariate Analysis: Average_Spent vs TotalAcceptedCmp', fontsize=14)\n",
        "plt.xlabel('Total Accepted Campaigns')\n",
        "plt.ylabel('Average Spent')\n",
        "plt.show()"
      ]
    },
    {
      "cell_type": "markdown",
      "id": "f5054011",
      "metadata": {
        "id": "f5054011"
      },
      "source": [
        "#### 9.Average_Spent vs NumTotalPurchases"
      ]
    },
    {
      "cell_type": "code",
      "execution_count": null,
      "id": "0b641f80",
      "metadata": {
        "id": "0b641f80"
      },
      "outputs": [],
      "source": [
        "# Bivariate analysis scatter plot\n",
        "plt.figure(figsize=(8, 6))\n",
        "sns.lineplot(x=data['NumTotalPurchases'], y=data['Average_Spent'], color='blue')\n",
        "plt.title('Bivariate Analysis: Average_Spent vs NumTotalPurchases', fontsize=14)\n",
        "plt.xlabel('Number of Total Purchases')\n",
        "plt.ylabel('Average Spent')\n",
        "plt.show()"
      ]
    },
    {
      "cell_type": "markdown",
      "id": "6302d47a",
      "metadata": {
        "id": "6302d47a"
      },
      "source": [
        "### LABEL ENCODING"
      ]
    },
    {
      "cell_type": "code",
      "execution_count": null,
      "id": "638bdf91",
      "metadata": {
        "id": "638bdf91"
      },
      "outputs": [],
      "source": [
        "# Import label encoder\n",
        "from sklearn import preprocessing\n",
        "\n",
        "# label_encoder object knows\n",
        "# how to understand word labels.\n",
        "label_encoder = preprocessing.LabelEncoder()\n",
        "\n",
        "\n",
        "data['Education_Level'] = label_encoder.fit_transform(data['Education_Level'])\n",
        "data['Marital_Status'] = label_encoder.fit_transform(data['Marital_Status'])"
      ]
    },
    {
      "cell_type": "code",
      "execution_count": null,
      "id": "05ecf7d8",
      "metadata": {
        "id": "05ecf7d8"
      },
      "outputs": [],
      "source": [
        "data1 = data.copy()\n",
        "data1"
      ]
    },
    {
      "cell_type": "markdown",
      "id": "3060a59f",
      "metadata": {
        "id": "3060a59f"
      },
      "source": [
        " - Need to scale the data before feeding it to clustering algorithm\n"
      ]
    },
    {
      "cell_type": "markdown",
      "id": "499efa05",
      "metadata": {
        "id": "499efa05"
      },
      "source": [
        "### SCALING"
      ]
    },
    {
      "cell_type": "code",
      "execution_count": null,
      "id": "700113d2",
      "metadata": {
        "id": "700113d2"
      },
      "outputs": [],
      "source": [
        "from sklearn.preprocessing import StandardScaler\n",
        "scaler = StandardScaler()\n",
        "col_scale = ['Marital_Status', 'Income', 'NumDealsPurchases', 'Complain', 'Response',\n",
        "       'Customer_Age', 'Education_Level', 'Is_Parent', 'Kids', 'Customer_For',\n",
        "       'Average_Spent', 'TotalAcceptedCmp', 'avg_web_visits',\n",
        "       'NumTotalPurchases']\n",
        "\n",
        "data[col_scale] = scaler.fit_transform(data[col_scale])"
      ]
    },
    {
      "cell_type": "markdown",
      "id": "850f766d",
      "metadata": {
        "id": "850f766d"
      },
      "source": [
        "# CLUSTERING"
      ]
    },
    {
      "cell_type": "markdown",
      "id": "04aae7ff",
      "metadata": {
        "id": "04aae7ff"
      },
      "source": [
        "## K - MEANS"
      ]
    },
    {
      "cell_type": "code",
      "execution_count": null,
      "id": "0c9876d3",
      "metadata": {
        "id": "0c9876d3"
      },
      "outputs": [],
      "source": [
        "import matplotlib.pyplot as plt\n",
        "from sklearn.cluster import KMeans\n",
        "\n",
        "wcss = []  # List to store the within-cluster sum of squares (WCSS) values\n",
        "\n",
        "# Iterate over different numbers of clusters\n",
        "for num_clusters in range(1, 10):\n",
        "    # Create a K-means clustering model with 'num_clusters' clusters\n",
        "    kmeans = KMeans(n_clusters=num_clusters, init='k-means++', random_state=42)\n",
        "\n",
        "    # Fit the model to the data and compute the WCSS\n",
        "    kmeans.fit(data)\n",
        "    wcss.append(kmeans.inertia_)\n",
        "\n",
        "# Plotting the WCSS values\n",
        "plt.figure(figsize=(10, 8))\n",
        "plt.plot(range(1, 10), wcss, marker='o')\n",
        "\n",
        "# Highlighting the optimal number of clusters\n",
        "plt.axvline(x=5, color='r', linestyle='--', linewidth=2)\n",
        "\n",
        "plt.xlabel('Number of Clusters')\n",
        "plt.ylabel('WCSS')\n",
        "plt.title('K-means Clustering - Elbow Method')\n",
        "plt.grid(True)\n",
        "\n",
        "plt.show()\n"
      ]
    },
    {
      "cell_type": "code",
      "execution_count": null,
      "id": "QwGnfww20J6R",
      "metadata": {
        "id": "QwGnfww20J6R"
      },
      "outputs": [],
      "source": [
        "from sklearn.cluster import AgglomerativeClustering\n",
        "\n",
        "from sklearn.metrics import silhouette_score\n",
        "\n",
        "for i in range(2,10):\n",
        "  agl =  AgglomerativeClustering(n_clusters=i)\n",
        "  agl.fit(data1)\n",
        "  label = agl.labels_\n",
        "  score = silhouette_score(data1, label)\n",
        "  print(\"Untuk k=\",i,\"silhouette score=\",score)"
      ]
    },
    {
      "cell_type": "markdown",
      "id": "VbkB8f9Qyie1",
      "metadata": {
        "id": "VbkB8f9Qyie1"
      },
      "source": [
        "As 2 dimensions are not enough to conclude we have checked silhouette score of 3 and 5 are similar (0.51) for both dependding on that and elbow clusters we chose to 5"
      ]
    },
    {
      "cell_type": "code",
      "execution_count": null,
      "id": "5c2772aa",
      "metadata": {
        "id": "5c2772aa"
      },
      "outputs": [],
      "source": [
        "#Here we have fit the 5 clusters and predicting those clusters\n",
        "\n",
        "kmeans = KMeans(n_clusters=5, random_state=42)\n",
        "kmeans.fit(data)\n",
        "label = kmeans.predict(data)\n",
        "data_segment = data1.copy()\n",
        "data_segment['Segments'] = label"
      ]
    },
    {
      "cell_type": "code",
      "execution_count": null,
      "id": "e4a835b3",
      "metadata": {
        "id": "e4a835b3"
      },
      "outputs": [],
      "source": [
        "data_segment.groupby(['Segments'])\n",
        "data_segment"
      ]
    },
    {
      "cell_type": "code",
      "execution_count": null,
      "id": "AB5BB7gh2eMw",
      "metadata": {
        "id": "AB5BB7gh2eMw"
      },
      "outputs": [],
      "source": [
        "data_segment.groupby(['Segments']).mean()"
      ]
    },
    {
      "cell_type": "code",
      "execution_count": null,
      "id": "4f67e987",
      "metadata": {
        "id": "4f67e987"
      },
      "outputs": [],
      "source": [
        "plt.figure(figsize=(10, 8))\n",
        "sns.scatterplot(x='Income', y='Average_Spent', data=data_segment, hue='Segments', palette=['pink','y','g','r','orange'])\n",
        "plt.title('Segmentation K-Means')\n",
        "plt.show()"
      ]
    },
    {
      "cell_type": "code",
      "execution_count": null,
      "id": "uC-KgQPd1J0h",
      "metadata": {
        "id": "uC-KgQPd1J0h"
      },
      "outputs": [],
      "source": [
        "# countplot to see number of customers in each cluster\n",
        "plt.figure(figsize=(12, 8))\n",
        "sns.countplot(x='Segments', data=data_segment)\n",
        "plt.show()"
      ]
    },
    {
      "cell_type": "markdown",
      "id": "PXHpYMfx1YIf",
      "metadata": {
        "id": "PXHpYMfx1YIf"
      },
      "source": [
        " - Cluster 0 has the second largest number of Segments.\n",
        " - Cluster 1 has large number of customers among all the Segments.\n",
        " - Cluster 2 has least amount of customers.\n",
        " - Cluster 3 & 4 has around same number of customers."
      ]
    },
    {
      "cell_type": "code",
      "execution_count": null,
      "id": "bdMD30gU2TSb",
      "metadata": {
        "id": "bdMD30gU2TSb"
      },
      "outputs": [],
      "source": [
        "# Lets see how  many customers from each cluster has what kind of education level\n",
        "\n",
        "plt.figure(figsize=(12, 8))\n",
        "sns.countplot(x='Segments', data=data_segment, hue='Education_Level')\n",
        "plt.show()"
      ]
    },
    {
      "cell_type": "markdown",
      "id": "uhpD4v1A_mXe",
      "metadata": {
        "id": "uhpD4v1A_mXe"
      },
      "source": [
        " -  Cluster 0 has both high and mid educated people.\n",
        " -  Cluster 1 has the totally high educated people.\n",
        " -  Cluster 2 has least number of educated people.\n",
        " -  Cluster 3 has mostly mid and low-educated people.\n",
        " -  Cluster 4 has both high and mid educated people."
      ]
    },
    {
      "cell_type": "code",
      "execution_count": null,
      "id": "li5OumcC7_9j",
      "metadata": {
        "id": "li5OumcC7_9j"
      },
      "outputs": [],
      "source": [
        "# Segments vs Marital_Status\n",
        "\n",
        "plt.figure(figsize=(12, 8))\n",
        "sns.countplot(x='Segments', data=data_segment, hue='Marital_Status')\n",
        "plt.show()"
      ]
    },
    {
      "cell_type": "markdown",
      "id": "ckqPq-NMFKTF",
      "metadata": {
        "id": "ckqPq-NMFKTF"
      },
      "source": [
        " - Cluster 0,1,3 and 4 have mostly married Customers.\n",
        " - Cluster 2 has nearly same number of married and single customers."
      ]
    },
    {
      "cell_type": "code",
      "execution_count": null,
      "id": "-tMJJVg58v4b",
      "metadata": {
        "id": "-tMJJVg58v4b"
      },
      "outputs": [],
      "source": [
        "#Segments Vs ISparent\n",
        "\n",
        "plt.figure(figsize=(12, 8))\n",
        "sns.countplot(x='Segments', data=data_segment, hue='Is_Parent')\n",
        "plt.show()"
      ]
    },
    {
      "cell_type": "markdown",
      "id": "2KaMIgUYGAEU",
      "metadata": {
        "id": "2KaMIgUYGAEU"
      },
      "source": [
        " - Cluster 0,1 and 3 has more number of parent customers.\n",
        " - Cluster 2 and 4 has no parents."
      ]
    },
    {
      "cell_type": "code",
      "execution_count": null,
      "id": "6xbaEewf2iru",
      "metadata": {
        "id": "6xbaEewf2iru"
      },
      "outputs": [],
      "source": [
        "# Now lets findout how  many customers from each cluster has exact number of kids or teens in household\n",
        "\n",
        "plt.figure(figsize=(12, 8))\n",
        "sns.countplot(x='Segments', data=data_segment, hue='Kids')\n",
        "plt.show()"
      ]
    },
    {
      "cell_type": "markdown",
      "id": "BsF0-LwuGeK4",
      "metadata": {
        "id": "BsF0-LwuGeK4"
      },
      "source": [
        " - Cluster 0,1 and 3 have mostly one kids.\n",
        " - Cluster 2 and 4 has mostly no kids."
      ]
    },
    {
      "cell_type": "code",
      "execution_count": null,
      "id": "dws8fEdG3vBk",
      "metadata": {
        "id": "dws8fEdG3vBk"
      },
      "outputs": [],
      "source": [
        "# Now lets findout how  many customers from each cluster have complained\n",
        "\n",
        "plt.figure(figsize=(12, 8))\n",
        "sns.countplot(x='Segments', data=data_segment[data_segment['Complain']==1])\n",
        "plt.show()"
      ]
    },
    {
      "cell_type": "markdown",
      "id": "7wy0Kwl5HvG3",
      "metadata": {
        "id": "7wy0Kwl5HvG3"
      },
      "source": [
        " -  Cluster 1 have the highest complains compared to other clusters.\n",
        " -  Cluster 2 has the least complaints."
      ]
    },
    {
      "cell_type": "code",
      "execution_count": null,
      "id": "md2zsn7p7SgG",
      "metadata": {
        "id": "md2zsn7p7SgG"
      },
      "outputs": [],
      "source": [
        "# Now lets findout from each cluster have Responeded\n",
        "\n",
        "plt.figure(figsize=(12, 8))\n",
        "sns.countplot(x='Segments', data=data_segment[data_segment['Response']==1])\n",
        "plt.show()"
      ]
    },
    {
      "cell_type": "markdown",
      "id": "RVay2mtLIocf",
      "metadata": {
        "id": "RVay2mtLIocf"
      },
      "source": [
        "  - Cluster 2 has  the highest Respones.\n",
        "  - Cluster 4 has the least Responses."
      ]
    },
    {
      "cell_type": "code",
      "execution_count": null,
      "id": "E9gexwla4QCW",
      "metadata": {
        "id": "E9gexwla4QCW"
      },
      "outputs": [],
      "source": [
        "# Lets findout income of customers with in clusters\n",
        "\n",
        "plt.figure(figsize=(12, 8))\n",
        "sns.barplot(x=data_segment[\"Segments\"], y=data_segment[\"Income\"])\n",
        "plt.title(\"Income vs Segments\", size=15)\n",
        "plt.show()"
      ]
    },
    {
      "cell_type": "markdown",
      "id": "TL9aaA2NI8IR",
      "metadata": {
        "id": "TL9aaA2NI8IR"
      },
      "source": [
        " - Cluster 2 has the highest Income.\n",
        " - Cluster 1 and 3 has the least Income."
      ]
    },
    {
      "cell_type": "code",
      "execution_count": null,
      "id": "1mZvnXxb-Lz8",
      "metadata": {
        "id": "1mZvnXxb-Lz8"
      },
      "outputs": [],
      "source": [
        "# Lets findout customers for with in clusters\n",
        "\n",
        "plt.figure(figsize=(12, 8))\n",
        "sns.barplot(x=data_segment[\"Segments\"], y=data_segment[\"Customer_For\"])\n",
        "plt.title(\"Segments vs Customer_For\", size=15)\n",
        "plt.show()"
      ]
    },
    {
      "cell_type": "markdown",
      "id": "eCm2h42lJXVM",
      "metadata": {
        "id": "eCm2h42lJXVM"
      },
      "source": [
        " - Cluster 0 and 2 are the Longest time customers than 1,3 and 4."
      ]
    },
    {
      "cell_type": "code",
      "execution_count": null,
      "id": "7E0Hsr2r-eXW",
      "metadata": {
        "id": "7E0Hsr2r-eXW"
      },
      "outputs": [],
      "source": [
        "# Lets findout Segments of customers Average Web Visits.\n",
        "\n",
        "plt.figure(figsize=(12, 8))\n",
        "sns.barplot(x=data_segment[\"Segments\"], y=data_segment[\"avg_web_visits\"])\n",
        "plt.title(\"Segments vs AverageWebVistis\", size=15)\n",
        "plt.show()"
      ]
    },
    {
      "cell_type": "markdown",
      "id": "8c7JguEvKcSy",
      "metadata": {
        "id": "8c7JguEvKcSy"
      },
      "source": [
        " - Cluster 0 has highest average web vistis compared to 1,2,3 and 4."
      ]
    },
    {
      "cell_type": "markdown",
      "id": "Z61A0i1DK2rU",
      "metadata": {
        "id": "Z61A0i1DK2rU"
      },
      "source": []
    },
    {
      "cell_type": "code",
      "execution_count": null,
      "id": "A_W1wm2c5jWH",
      "metadata": {
        "id": "A_W1wm2c5jWH"
      },
      "outputs": [],
      "source": [
        "#Segments vs NumTotalPurchases\n",
        "\n",
        "plt.figure(figsize=(12, 8))\n",
        "sns.boxenplot(x=data_segment[\"Segments\"], y=data_segment[\"NumTotalPurchases\"])\n",
        "plt.title(\"Purchase Number vs Segments\", size=15)\n",
        "plt.show()"
      ]
    },
    {
      "cell_type": "markdown",
      "id": "T560uFJDNpMd",
      "metadata": {
        "id": "T560uFJDNpMd"
      },
      "source": [
        " - Cluster 0, 2 and 4 of purchasing behaviour pattern is similar.\n",
        " - Cluster 1 and 3 have the same purchasing behaviour."
      ]
    },
    {
      "cell_type": "code",
      "execution_count": null,
      "id": "7bBVx9Tr6IqH",
      "metadata": {
        "id": "7bBVx9Tr6IqH"
      },
      "outputs": [],
      "source": [
        "#Segments vs TotalAcceptedCmp\n",
        "\n",
        "plt.figure(figsize=(12, 8))\n",
        "sns.boxplot(x=data_segment[\"Segments\"], y=data_segment[\"TotalAcceptedCmp\"])\n",
        "plt.show()"
      ]
    },
    {
      "cell_type": "markdown",
      "id": "cfGVtO_nOTaM",
      "metadata": {
        "id": "cfGVtO_nOTaM"
      },
      "source": [
        " - Cluster 2 has accepted more number of campaings.\n",
        " - Cluster 4 has accepted less number of campaings.\n",
        " - Cluster 0,1 and 3 has not accepted any campaigns."
      ]
    },
    {
      "cell_type": "code",
      "execution_count": null,
      "id": "NKz3Tz3s6Wt3",
      "metadata": {
        "id": "NKz3Tz3s6Wt3"
      },
      "outputs": [],
      "source": [
        "#Segments vs NumDealPurchases\n",
        "\n",
        "plt.figure(figsize=(12, 8))\n",
        "sns.boxenplot(x=data_segment[\"Segments\"], y=data_segment[\"NumDealsPurchases\"])\n",
        "plt.show()"
      ]
    },
    {
      "cell_type": "markdown",
      "id": "3-gB350FO4Vx",
      "metadata": {
        "id": "3-gB350FO4Vx"
      },
      "source": [
        " - Cluster 0 has highest number of purcheses with discount.\n",
        " - Cluster 1 and 3 have a medium number of purchases with discounts.\n",
        " - Cluster 2 and 4 has lowest number of purchases with discounts."
      ]
    },
    {
      "cell_type": "code",
      "execution_count": null,
      "id": "CO1zAWHF9k_u",
      "metadata": {
        "id": "CO1zAWHF9k_u"
      },
      "outputs": [],
      "source": [
        "#Segments vs Average_Spent\n",
        "\n",
        "plt.figure(figsize=(12, 8))\n",
        "sns.boxenplot(x=data_segment[\"Segments\"], y=data_segment[\"Average_Spent\"])\n",
        "plt.show()"
      ]
    },
    {
      "cell_type": "markdown",
      "id": "l7HpmkpiPz58",
      "metadata": {
        "id": "l7HpmkpiPz58"
      },
      "source": [
        " -  Cluster 2 amd 4 has highest average spent customers.\n",
        " -  Cluster 0 has second highest average spent customers.\n",
        " -  Cluster 1 and 3 has least average spent customers."
      ]
    },
    {
      "cell_type": "markdown",
      "id": "02OwVvB6mIOX",
      "metadata": {
        "id": "02OwVvB6mIOX"
      },
      "source": [
        "Cluster 2 - Elite Customer :\n",
        "\n",
        "Least number of clusters and least number of educated people.\n",
        "No parents and no kids.\n",
        "Has least complaints\n",
        "Has highest response, income and average spent customers\n",
        "Accepted more number of campaigns\n",
        "\n",
        "\n",
        "Cluster 4 - Best Customer :\n",
        "\n",
        "Has both high and mid educated people\n",
        "has no parents and no kids\n",
        "has least response\n",
        "has highest average spent customers\n",
        "accepted less number of campaings.\n",
        "\n",
        "\n",
        "Cluster 0 - Good Customer :\n",
        "\n",
        "It has 2nd largest number of clusters and highest average spent customers.\n",
        "Both high and mid educated people.\n",
        "Mostly one kid and  married customers.\n",
        "Highest average web visits.\n",
        "Has not accepted campaigns.\n",
        "\n",
        "\n",
        "Cluster 3 - Average Customer :\n",
        "\n",
        "Mostly mid and low educated people,married customers and one kid\n",
        " Least income and least average spent customers\n",
        "Has more number of parent customers.\n",
        "Medium number of purchases\n",
        "       \n",
        "\n",
        "Cluster 1 - Below Average Customer :\n",
        "\n",
        "Large number of customers among all clusters.\n",
        "High educated people\n",
        "Mostly married customers and one kid\n",
        "Highest complain compared to all clusters.\n",
        "Least income and average spent customers\n",
        "Has not accepted campaigns.\n",
        "\n",
        "\n"
      ]
    },
    {
      "cell_type": "markdown",
      "id": "1DUyy5jNu4EJ",
      "metadata": {
        "id": "1DUyy5jNu4EJ"
      },
      "source": [
        "###Training & Testing the model"
      ]
    },
    {
      "cell_type": "code",
      "execution_count": null,
      "id": "0mtqxgj_sRaw",
      "metadata": {
        "id": "0mtqxgj_sRaw"
      },
      "outputs": [],
      "source": [
        "array= data_segment.values\n",
        "array"
      ]
    },
    {
      "cell_type": "code",
      "execution_count": null,
      "id": "-UcuGfKfYHKW",
      "metadata": {
        "id": "-UcuGfKfYHKW"
      },
      "outputs": [],
      "source": [
        "from sklearn.model_selection import train_test_split\n",
        "\n",
        "x = data_segment.drop('Segments', axis=1)\n",
        "y = data_segment['Segments']\n",
        "x_train,x_test,y_train,y_test= train_test_split(x,y, test_size=0.3,random_state=24)\n"
      ]
    },
    {
      "cell_type": "code",
      "execution_count": null,
      "id": "v_JhfBzScBzQ",
      "metadata": {
        "id": "v_JhfBzScBzQ"
      },
      "outputs": [],
      "source": [
        "from sklearn.neighbors import KNeighborsClassifier\n",
        "from sklearn.metrics import accuracy_score\n",
        "from sklearn.preprocessing import StandardScaler\n",
        "\n",
        "# Assuming you have X_train, y_train, X_test, y_test as your training and testing data\n",
        "\n",
        "# Perform feature scaling (optional but can improve accuracy)\n",
        "scaler = StandardScaler()\n",
        "X_train_scaled = scaler.fit_transform(x_train)\n",
        "X_test_scaled = scaler.transform(x_test)\n",
        "\n",
        "# Create KNN classifier object\n",
        "knn = KNeighborsClassifier(n_neighbors=5)\n",
        "\n",
        "# Train the classifier\n",
        "knn.fit(X_train_scaled, y_train)\n",
        "\n",
        "# Make predictions on the test set\n",
        "y_pred = knn.predict(X_test_scaled)\n",
        "\n",
        "# Calculate accuracy score\n",
        "accuracy = accuracy_score(y_test, y_pred)\n",
        "print(\"Accuracy:\", accuracy)\n"
      ]
    },
    {
      "cell_type": "code",
      "execution_count": null,
      "id": "fUDXo3VUaDll",
      "metadata": {
        "id": "fUDXo3VUaDll"
      },
      "outputs": [],
      "source": [
        "from sklearn.metrics import classification_report\n",
        "print(classification_report(y_test,y_pred))"
      ]
    },
    {
      "cell_type": "code",
      "execution_count": null,
      "id": "X6tUP-SsQfVK",
      "metadata": {
        "id": "X6tUP-SsQfVK"
      },
      "outputs": [],
      "source": []
    },
    {
      "cell_type": "markdown",
      "id": "SnhHmjzSeqw1",
      "metadata": {
        "id": "SnhHmjzSeqw1"
      },
      "source": [
        "###SAVING THE MODEL"
      ]
    },
    {
      "cell_type": "code",
      "execution_count": null,
      "id": "Cy1dneeTeotd",
      "metadata": {
        "id": "Cy1dneeTeotd"
      },
      "outputs": [],
      "source": [
        "from sklearn.neighbors import KNeighborsClassifier\n",
        "import pickle\n",
        "\n",
        "# Assuming you have X_train, y_train, X_test, y_test as your training and testing data\n",
        "\n",
        "# Create KNN classifier object\n",
        "knn = KNeighborsClassifier(n_neighbors=5)\n",
        "\n",
        "# Fit the classifier to the training data\n",
        "knn.fit(X_train_scaled, y_train)\n",
        "\n",
        "# Save the model using pickle\n",
        "filename = 'CPA_final.sav'\n",
        "pickle.dump(knn, open(filename, 'wb'))\n",
        "\n",
        "# Load the model from file\n",
        "loaded_model = pickle.load(open(filename, 'rb'))\n",
        "\n",
        "# Calculate the accuracy score using the loaded model\n",
        "result = loaded_model.score(X_test_scaled, y_test)\n",
        "print(result, '% Accuracy')\n"
      ]
    },
    {
      "cell_type": "code",
      "execution_count": null,
      "id": "7fk6UnLVeutn",
      "metadata": {
        "id": "7fk6UnLVeutn"
      },
      "outputs": [],
      "source": []
    }
  ],
  "metadata": {
    "colab": {
      "provenance": []
    },
    "kernelspec": {
      "display_name": "Python 3 (ipykernel)",
      "language": "python",
      "name": "python3"
    },
    "language_info": {
      "codemirror_mode": {
        "name": "ipython",
        "version": 3
      },
      "file_extension": ".py",
      "mimetype": "text/x-python",
      "name": "python",
      "nbconvert_exporter": "python",
      "pygments_lexer": "ipython3",
      "version": "3.11.4"
    }
  },
  "nbformat": 4,
  "nbformat_minor": 5
}